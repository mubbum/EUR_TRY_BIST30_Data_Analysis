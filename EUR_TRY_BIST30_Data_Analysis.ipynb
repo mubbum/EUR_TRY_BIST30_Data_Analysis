{
 "cells": [
  {
   "cell_type": "markdown",
   "id": "68d00dc5",
   "metadata": {
    "id": "68d00dc5"
   },
   "source": [
    "\n",
    "# <center> Güney Marmara and TRAI\n",
    "# <center> Python Data Analysis Training\n",
    "# <center> Homework 4"
   ]
  },
  {
   "cell_type": "code",
   "execution_count": 3,
   "id": "e9276aa8",
   "metadata": {},
   "outputs": [
    {
     "name": "stdout",
     "output_type": "stream",
     "text": [
      "Collecting yfinance\n",
      "  Using cached yfinance-0.2.49-py2.py3-none-any.whl (101 kB)\n",
      "Collecting multitasking>=0.0.7\n",
      "  Using cached multitasking-0.0.11-py3-none-any.whl (8.5 kB)\n",
      "Collecting requests>=2.31\n",
      "  Using cached requests-2.32.3-py3-none-any.whl (64 kB)\n",
      "Collecting peewee>=3.16.2\n",
      "  Using cached peewee-3.17.8.tar.gz (948 kB)\n",
      "  Installing build dependencies: started\n",
      "  Installing build dependencies: finished with status 'done'\n",
      "  Getting requirements to build wheel: started\n",
      "  Getting requirements to build wheel: finished with status 'done'\n",
      "  Preparing metadata (pyproject.toml): started\n",
      "  Preparing metadata (pyproject.toml): finished with status 'done'\n",
      "Requirement already satisfied: numpy>=1.16.5 in c:\\users\\hp\\miniconda3\\lib\\site-packages (from yfinance) (1.24.3)\n",
      "Requirement already satisfied: platformdirs>=2.0.0 in c:\\users\\hp\\miniconda3\\lib\\site-packages (from yfinance) (3.5.1)\n",
      "Collecting lxml>=4.9.1\n",
      "  Using cached lxml-5.3.0-cp310-cp310-win_amd64.whl (3.8 MB)\n",
      "Requirement already satisfied: pytz>=2022.5 in c:\\users\\hp\\miniconda3\\lib\\site-packages (from yfinance) (2023.3)\n",
      "Requirement already satisfied: beautifulsoup4>=4.11.1 in c:\\users\\hp\\miniconda3\\lib\\site-packages (from yfinance) (4.12.2)\n",
      "Collecting html5lib>=1.1\n",
      "  Using cached html5lib-1.1-py2.py3-none-any.whl (112 kB)\n",
      "Collecting frozendict>=2.3.4\n",
      "  Using cached frozendict-2.4.6-cp310-cp310-win_amd64.whl (37 kB)\n",
      "Requirement already satisfied: pandas>=1.3.0 in c:\\users\\hp\\miniconda3\\lib\\site-packages (from yfinance) (2.0.1)\n",
      "Requirement already satisfied: soupsieve>1.2 in c:\\users\\hp\\miniconda3\\lib\\site-packages (from beautifulsoup4>=4.11.1->yfinance) (2.3.2.post1)\n",
      "Requirement already satisfied: six>=1.9 in c:\\users\\hp\\miniconda3\\lib\\site-packages (from html5lib>=1.1->yfinance) (1.16.0)\n",
      "Requirement already satisfied: webencodings in c:\\users\\hp\\miniconda3\\lib\\site-packages (from html5lib>=1.1->yfinance) (0.5.1)\n",
      "Requirement already satisfied: python-dateutil>=2.8.2 in c:\\users\\hp\\miniconda3\\lib\\site-packages (from pandas>=1.3.0->yfinance) (2.8.2)\n",
      "Requirement already satisfied: tzdata>=2022.1 in c:\\users\\hp\\miniconda3\\lib\\site-packages (from pandas>=1.3.0->yfinance) (2023.3)\n",
      "Requirement already satisfied: urllib3<3,>=1.21.1 in c:\\users\\hp\\miniconda3\\lib\\site-packages (from requests>=2.31->yfinance) (1.26.15)\n",
      "Requirement already satisfied: idna<4,>=2.5 in c:\\users\\hp\\miniconda3\\lib\\site-packages (from requests>=2.31->yfinance) (3.4)\n",
      "Requirement already satisfied: charset-normalizer<4,>=2 in c:\\users\\hp\\miniconda3\\lib\\site-packages (from requests>=2.31->yfinance) (2.0.4)\n",
      "Requirement already satisfied: certifi>=2017.4.17 in c:\\users\\hp\\miniconda3\\lib\\site-packages (from requests>=2.31->yfinance) (2023.5.7)\n",
      "Building wheels for collected packages: peewee\n",
      "  Building wheel for peewee (pyproject.toml): started\n",
      "  Building wheel for peewee (pyproject.toml): finished with status 'done'\n",
      "  Created wheel for peewee: filename=peewee-3.17.8-py3-none-any.whl size=139014 sha256=1cbe0b5a91dfb7e1f56ef4e8472ec507802b9dce3b5a2d4dc38069470dd4c9f7\n",
      "  Stored in directory: c:\\users\\hp\\appdata\\local\\pip\\cache\\wheels\\75\\79\\e5\\8838db0594cc6c587142fd2563356392ade6255c5930411069\n",
      "Successfully built peewee\n",
      "Installing collected packages: peewee, multitasking, requests, lxml, html5lib, frozendict, yfinance\n",
      "  Attempting uninstall: requests\n",
      "    Found existing installation: requests 2.28.1\n",
      "    Uninstalling requests-2.28.1:\n",
      "      Successfully uninstalled requests-2.28.1\n",
      "Successfully installed frozendict-2.4.6 html5lib-1.1 lxml-5.3.0 multitasking-0.0.11 peewee-3.17.8 requests-2.32.3 yfinance-0.2.49\n",
      "Note: you may need to restart the kernel to use updated packages.\n"
     ]
    }
   ],
   "source": [
    "pip install yfinance"
   ]
  },
  {
   "cell_type": "code",
   "execution_count": 4,
   "id": "P_YWeE1GP0UD",
   "metadata": {
    "id": "P_YWeE1GP0UD"
   },
   "outputs": [],
   "source": [
    "import yfinance as yf\n",
    "import plotly.express as px\n",
    "import plotly.graph_objects as go"
   ]
  },
  {
   "cell_type": "code",
   "execution_count": 5,
   "id": "MLXRcnjKPT4p",
   "metadata": {
    "colab": {
     "base_uri": "https://localhost:8080/"
    },
    "id": "MLXRcnjKPT4p",
    "outputId": "c1adbf79-d705-4acd-b22b-acfd572c095c"
   },
   "outputs": [
    {
     "name": "stderr",
     "output_type": "stream",
     "text": [
      "[*********************100%***********************]  1 of 1 completed\n",
      "[*********************100%***********************]  1 of 1 completed\n"
     ]
    }
   ],
   "source": [
    "b30 = yf.download(\"XU030.IS\", start = \"2021-01-01\", end = \"2023-01-01\")\n",
    "eur_try = yf.download(\"EURTRY=X\", start = \"2021-01-01\", end = \"2023-01-01\")"
   ]
  },
  {
   "cell_type": "code",
   "execution_count": 6,
   "id": "jEVmp9PrQNeP",
   "metadata": {
    "colab": {
     "base_uri": "https://localhost:8080/"
    },
    "id": "jEVmp9PrQNeP",
    "outputId": "74db83a5-e293-418b-8dd4-ce1dd1e93a85"
   },
   "outputs": [],
   "source": [
    "b30 = b30[[\"Adj Close\"]]\n",
    "b30.columns = [\"Closing (TRY)\"]\n",
    "b30[\"Normalize\"] = b30[\"Closing (TRY)\"]/b30.iloc[0,0]\n",
    "b30[\"change\"] = b30[\"Normalize\"].diff(1)\n",
    "b30[\"direction\"] = b30[\"change\"].map(lambda x: \"decrease\" if x<0 else \"increase\")\n",
    "b30[\"change%\"] = b30[\"change\"]/b30[\"Closing (TRY)\"].shift(1)*100"
   ]
  },
  {
   "cell_type": "code",
   "execution_count": 7,
   "id": "iml7VkH5QcC_",
   "metadata": {
    "colab": {
     "base_uri": "https://localhost:8080/"
    },
    "id": "iml7VkH5QcC_",
    "outputId": "19c173fc-ba66-49f4-8f08-d3571f833ff2"
   },
   "outputs": [],
   "source": [
    "eur_try = eur_try[[\"Adj Close\"]]\n",
    "eur_try.columns = [\"EUR/TRY\"]\n",
    "eur_try[\"Normalize EUR/TRY\"] = eur_try[\"EUR/TRY\"]/eur_try.iloc[0,0]"
   ]
  },
  {
   "cell_type": "code",
   "execution_count": 8,
   "id": "KcSxiaKxPnOs",
   "metadata": {
    "colab": {
     "base_uri": "https://localhost:8080/",
     "height": 455
    },
    "id": "KcSxiaKxPnOs",
    "outputId": "c78f0df5-06b7-488b-b4d3-649531ac9e6b"
   },
   "outputs": [
    {
     "data": {
      "text/html": [
       "<div>\n",
       "<style scoped>\n",
       "    .dataframe tbody tr th:only-of-type {\n",
       "        vertical-align: middle;\n",
       "    }\n",
       "\n",
       "    .dataframe tbody tr th {\n",
       "        vertical-align: top;\n",
       "    }\n",
       "\n",
       "    .dataframe thead th {\n",
       "        text-align: right;\n",
       "    }\n",
       "</style>\n",
       "<table border=\"1\" class=\"dataframe\">\n",
       "  <thead>\n",
       "    <tr style=\"text-align: right;\">\n",
       "      <th></th>\n",
       "      <th>Closing (TRY)</th>\n",
       "      <th>Normalize</th>\n",
       "      <th>change</th>\n",
       "      <th>direction</th>\n",
       "      <th>change%</th>\n",
       "      <th>EUR/TRY</th>\n",
       "      <th>Normalize EUR/TRY</th>\n",
       "    </tr>\n",
       "    <tr>\n",
       "      <th>Date</th>\n",
       "      <th></th>\n",
       "      <th></th>\n",
       "      <th></th>\n",
       "      <th></th>\n",
       "      <th></th>\n",
       "      <th></th>\n",
       "      <th></th>\n",
       "    </tr>\n",
       "  </thead>\n",
       "  <tbody>\n",
       "    <tr>\n",
       "      <th>2021-01-04 00:00:00+00:00</th>\n",
       "      <td>1652.900024</td>\n",
       "      <td>1.000000</td>\n",
       "      <td>NaN</td>\n",
       "      <td>increase</td>\n",
       "      <td>NaN</td>\n",
       "      <td>9.105680</td>\n",
       "      <td>1.002309</td>\n",
       "    </tr>\n",
       "    <tr>\n",
       "      <th>2021-01-05 00:00:00+00:00</th>\n",
       "      <td>1640.400024</td>\n",
       "      <td>0.992438</td>\n",
       "      <td>-0.007562</td>\n",
       "      <td>decrease</td>\n",
       "      <td>-0.000458</td>\n",
       "      <td>9.088820</td>\n",
       "      <td>1.000454</td>\n",
       "    </tr>\n",
       "    <tr>\n",
       "      <th>2021-01-06 00:00:00+00:00</th>\n",
       "      <td>1657.699951</td>\n",
       "      <td>1.002904</td>\n",
       "      <td>0.010466</td>\n",
       "      <td>increase</td>\n",
       "      <td>0.000638</td>\n",
       "      <td>9.081770</td>\n",
       "      <td>0.999678</td>\n",
       "    </tr>\n",
       "    <tr>\n",
       "      <th>2021-01-07 00:00:00+00:00</th>\n",
       "      <td>1678.199951</td>\n",
       "      <td>1.015306</td>\n",
       "      <td>0.012402</td>\n",
       "      <td>increase</td>\n",
       "      <td>0.000748</td>\n",
       "      <td>9.006140</td>\n",
       "      <td>0.991353</td>\n",
       "    </tr>\n",
       "    <tr>\n",
       "      <th>2021-01-08 00:00:00+00:00</th>\n",
       "      <td>1694.400024</td>\n",
       "      <td>1.025107</td>\n",
       "      <td>0.009801</td>\n",
       "      <td>increase</td>\n",
       "      <td>0.000584</td>\n",
       "      <td>8.998500</td>\n",
       "      <td>0.990512</td>\n",
       "    </tr>\n",
       "    <tr>\n",
       "      <th>...</th>\n",
       "      <td>...</td>\n",
       "      <td>...</td>\n",
       "      <td>...</td>\n",
       "      <td>...</td>\n",
       "      <td>...</td>\n",
       "      <td>...</td>\n",
       "      <td>...</td>\n",
       "    </tr>\n",
       "    <tr>\n",
       "      <th>2022-12-23 00:00:00+00:00</th>\n",
       "      <td>5885.200195</td>\n",
       "      <td>3.560530</td>\n",
       "      <td>0.001210</td>\n",
       "      <td>increase</td>\n",
       "      <td>0.000021</td>\n",
       "      <td>19.791670</td>\n",
       "      <td>2.178572</td>\n",
       "    </tr>\n",
       "    <tr>\n",
       "      <th>2022-12-27 00:00:00+00:00</th>\n",
       "      <td>5876.700195</td>\n",
       "      <td>3.555388</td>\n",
       "      <td>-0.005142</td>\n",
       "      <td>decrease</td>\n",
       "      <td>-0.000087</td>\n",
       "      <td>19.815269</td>\n",
       "      <td>2.181169</td>\n",
       "    </tr>\n",
       "    <tr>\n",
       "      <th>2022-12-28 00:00:00+00:00</th>\n",
       "      <td>5789.399902</td>\n",
       "      <td>3.502571</td>\n",
       "      <td>-0.052816</td>\n",
       "      <td>decrease</td>\n",
       "      <td>-0.000899</td>\n",
       "      <td>19.805389</td>\n",
       "      <td>2.180082</td>\n",
       "    </tr>\n",
       "    <tr>\n",
       "      <th>2022-12-29 00:00:00+00:00</th>\n",
       "      <td>5915.200195</td>\n",
       "      <td>3.578680</td>\n",
       "      <td>0.076109</td>\n",
       "      <td>increase</td>\n",
       "      <td>0.001315</td>\n",
       "      <td>19.867519</td>\n",
       "      <td>2.186921</td>\n",
       "    </tr>\n",
       "    <tr>\n",
       "      <th>2022-12-30 00:00:00+00:00</th>\n",
       "      <td>5944.799805</td>\n",
       "      <td>3.596588</td>\n",
       "      <td>0.017908</td>\n",
       "      <td>increase</td>\n",
       "      <td>0.000303</td>\n",
       "      <td>19.937571</td>\n",
       "      <td>2.194632</td>\n",
       "    </tr>\n",
       "  </tbody>\n",
       "</table>\n",
       "<p>490 rows × 7 columns</p>\n",
       "</div>"
      ],
      "text/plain": [
       "                           Closing (TRY)  Normalize    change direction   \n",
       "Date                                                                      \n",
       "2021-01-04 00:00:00+00:00    1652.900024   1.000000       NaN  increase  \\\n",
       "2021-01-05 00:00:00+00:00    1640.400024   0.992438 -0.007562  decrease   \n",
       "2021-01-06 00:00:00+00:00    1657.699951   1.002904  0.010466  increase   \n",
       "2021-01-07 00:00:00+00:00    1678.199951   1.015306  0.012402  increase   \n",
       "2021-01-08 00:00:00+00:00    1694.400024   1.025107  0.009801  increase   \n",
       "...                                  ...        ...       ...       ...   \n",
       "2022-12-23 00:00:00+00:00    5885.200195   3.560530  0.001210  increase   \n",
       "2022-12-27 00:00:00+00:00    5876.700195   3.555388 -0.005142  decrease   \n",
       "2022-12-28 00:00:00+00:00    5789.399902   3.502571 -0.052816  decrease   \n",
       "2022-12-29 00:00:00+00:00    5915.200195   3.578680  0.076109  increase   \n",
       "2022-12-30 00:00:00+00:00    5944.799805   3.596588  0.017908  increase   \n",
       "\n",
       "                            change%    EUR/TRY  Normalize EUR/TRY  \n",
       "Date                                                               \n",
       "2021-01-04 00:00:00+00:00       NaN   9.105680           1.002309  \n",
       "2021-01-05 00:00:00+00:00 -0.000458   9.088820           1.000454  \n",
       "2021-01-06 00:00:00+00:00  0.000638   9.081770           0.999678  \n",
       "2021-01-07 00:00:00+00:00  0.000748   9.006140           0.991353  \n",
       "2021-01-08 00:00:00+00:00  0.000584   8.998500           0.990512  \n",
       "...                             ...        ...                ...  \n",
       "2022-12-23 00:00:00+00:00  0.000021  19.791670           2.178572  \n",
       "2022-12-27 00:00:00+00:00 -0.000087  19.815269           2.181169  \n",
       "2022-12-28 00:00:00+00:00 -0.000899  19.805389           2.180082  \n",
       "2022-12-29 00:00:00+00:00  0.001315  19.867519           2.186921  \n",
       "2022-12-30 00:00:00+00:00  0.000303  19.937571           2.194632  \n",
       "\n",
       "[490 rows x 7 columns]"
      ]
     },
     "execution_count": 8,
     "metadata": {},
     "output_type": "execute_result"
    }
   ],
   "source": [
    "data = b30.merge(eur_try, right_index=True,left_index=True)\n",
    "data"
   ]
  },
  {
   "cell_type": "markdown",
   "id": "334ba0cf",
   "metadata": {
    "id": "334ba0cf"
   },
   "source": [
    "### Summarizing data"
   ]
  },
  {
   "cell_type": "markdown",
   "id": "19ec5186",
   "metadata": {
    "id": "19ec5186"
   },
   "source": [
    "1.  A pivot table containing only the values ​​of the last business day of the month was produced from the composite table containing BIST30 and EUR/USD exchange rates for the years 2021 and 2022."
   ]
  },
  {
   "cell_type": "code",
   "execution_count": 9,
   "id": "7da5ccb3",
   "metadata": {
    "colab": {
     "base_uri": "https://localhost:8080/",
     "height": 455
    },
    "id": "7da5ccb3",
    "outputId": "67d26bbb-a0f6-4255-e8a8-7dfc6fc4936a"
   },
   "outputs": [
    {
     "data": {
      "text/html": [
       "<div>\n",
       "<style scoped>\n",
       "    .dataframe tbody tr th:only-of-type {\n",
       "        vertical-align: middle;\n",
       "    }\n",
       "\n",
       "    .dataframe tbody tr th {\n",
       "        vertical-align: top;\n",
       "    }\n",
       "\n",
       "    .dataframe thead th {\n",
       "        text-align: right;\n",
       "    }\n",
       "</style>\n",
       "<table border=\"1\" class=\"dataframe\">\n",
       "  <thead>\n",
       "    <tr style=\"text-align: right;\">\n",
       "      <th></th>\n",
       "      <th>Closing (TRY)</th>\n",
       "      <th>Normalize</th>\n",
       "      <th>change</th>\n",
       "      <th>direction</th>\n",
       "      <th>change%</th>\n",
       "      <th>EUR/TRY</th>\n",
       "      <th>Normalize EUR/TRY</th>\n",
       "      <th>month_year</th>\n",
       "    </tr>\n",
       "    <tr>\n",
       "      <th>Date</th>\n",
       "      <th></th>\n",
       "      <th></th>\n",
       "      <th></th>\n",
       "      <th></th>\n",
       "      <th></th>\n",
       "      <th></th>\n",
       "      <th></th>\n",
       "      <th></th>\n",
       "    </tr>\n",
       "  </thead>\n",
       "  <tbody>\n",
       "    <tr>\n",
       "      <th>2021-01-04 00:00:00+00:00</th>\n",
       "      <td>1652.900024</td>\n",
       "      <td>1.000000</td>\n",
       "      <td>NaN</td>\n",
       "      <td>increase</td>\n",
       "      <td>NaN</td>\n",
       "      <td>9.105680</td>\n",
       "      <td>1.002309</td>\n",
       "      <td>2021-01</td>\n",
       "    </tr>\n",
       "    <tr>\n",
       "      <th>2021-01-05 00:00:00+00:00</th>\n",
       "      <td>1640.400024</td>\n",
       "      <td>0.992438</td>\n",
       "      <td>-0.007562</td>\n",
       "      <td>decrease</td>\n",
       "      <td>-0.000458</td>\n",
       "      <td>9.088820</td>\n",
       "      <td>1.000454</td>\n",
       "      <td>2021-01</td>\n",
       "    </tr>\n",
       "    <tr>\n",
       "      <th>2021-01-06 00:00:00+00:00</th>\n",
       "      <td>1657.699951</td>\n",
       "      <td>1.002904</td>\n",
       "      <td>0.010466</td>\n",
       "      <td>increase</td>\n",
       "      <td>0.000638</td>\n",
       "      <td>9.081770</td>\n",
       "      <td>0.999678</td>\n",
       "      <td>2021-01</td>\n",
       "    </tr>\n",
       "    <tr>\n",
       "      <th>2021-01-07 00:00:00+00:00</th>\n",
       "      <td>1678.199951</td>\n",
       "      <td>1.015306</td>\n",
       "      <td>0.012402</td>\n",
       "      <td>increase</td>\n",
       "      <td>0.000748</td>\n",
       "      <td>9.006140</td>\n",
       "      <td>0.991353</td>\n",
       "      <td>2021-01</td>\n",
       "    </tr>\n",
       "    <tr>\n",
       "      <th>2021-01-08 00:00:00+00:00</th>\n",
       "      <td>1694.400024</td>\n",
       "      <td>1.025107</td>\n",
       "      <td>0.009801</td>\n",
       "      <td>increase</td>\n",
       "      <td>0.000584</td>\n",
       "      <td>8.998500</td>\n",
       "      <td>0.990512</td>\n",
       "      <td>2021-01</td>\n",
       "    </tr>\n",
       "    <tr>\n",
       "      <th>...</th>\n",
       "      <td>...</td>\n",
       "      <td>...</td>\n",
       "      <td>...</td>\n",
       "      <td>...</td>\n",
       "      <td>...</td>\n",
       "      <td>...</td>\n",
       "      <td>...</td>\n",
       "      <td>...</td>\n",
       "    </tr>\n",
       "    <tr>\n",
       "      <th>2022-12-23 00:00:00+00:00</th>\n",
       "      <td>5885.200195</td>\n",
       "      <td>3.560530</td>\n",
       "      <td>0.001210</td>\n",
       "      <td>increase</td>\n",
       "      <td>0.000021</td>\n",
       "      <td>19.791670</td>\n",
       "      <td>2.178572</td>\n",
       "      <td>2022-12</td>\n",
       "    </tr>\n",
       "    <tr>\n",
       "      <th>2022-12-27 00:00:00+00:00</th>\n",
       "      <td>5876.700195</td>\n",
       "      <td>3.555388</td>\n",
       "      <td>-0.005142</td>\n",
       "      <td>decrease</td>\n",
       "      <td>-0.000087</td>\n",
       "      <td>19.815269</td>\n",
       "      <td>2.181169</td>\n",
       "      <td>2022-12</td>\n",
       "    </tr>\n",
       "    <tr>\n",
       "      <th>2022-12-28 00:00:00+00:00</th>\n",
       "      <td>5789.399902</td>\n",
       "      <td>3.502571</td>\n",
       "      <td>-0.052816</td>\n",
       "      <td>decrease</td>\n",
       "      <td>-0.000899</td>\n",
       "      <td>19.805389</td>\n",
       "      <td>2.180082</td>\n",
       "      <td>2022-12</td>\n",
       "    </tr>\n",
       "    <tr>\n",
       "      <th>2022-12-29 00:00:00+00:00</th>\n",
       "      <td>5915.200195</td>\n",
       "      <td>3.578680</td>\n",
       "      <td>0.076109</td>\n",
       "      <td>increase</td>\n",
       "      <td>0.001315</td>\n",
       "      <td>19.867519</td>\n",
       "      <td>2.186921</td>\n",
       "      <td>2022-12</td>\n",
       "    </tr>\n",
       "    <tr>\n",
       "      <th>2022-12-30 00:00:00+00:00</th>\n",
       "      <td>5944.799805</td>\n",
       "      <td>3.596588</td>\n",
       "      <td>0.017908</td>\n",
       "      <td>increase</td>\n",
       "      <td>0.000303</td>\n",
       "      <td>19.937571</td>\n",
       "      <td>2.194632</td>\n",
       "      <td>2022-12</td>\n",
       "    </tr>\n",
       "  </tbody>\n",
       "</table>\n",
       "<p>490 rows × 8 columns</p>\n",
       "</div>"
      ],
      "text/plain": [
       "                           Closing (TRY)  Normalize    change direction   \n",
       "Date                                                                      \n",
       "2021-01-04 00:00:00+00:00    1652.900024   1.000000       NaN  increase  \\\n",
       "2021-01-05 00:00:00+00:00    1640.400024   0.992438 -0.007562  decrease   \n",
       "2021-01-06 00:00:00+00:00    1657.699951   1.002904  0.010466  increase   \n",
       "2021-01-07 00:00:00+00:00    1678.199951   1.015306  0.012402  increase   \n",
       "2021-01-08 00:00:00+00:00    1694.400024   1.025107  0.009801  increase   \n",
       "...                                  ...        ...       ...       ...   \n",
       "2022-12-23 00:00:00+00:00    5885.200195   3.560530  0.001210  increase   \n",
       "2022-12-27 00:00:00+00:00    5876.700195   3.555388 -0.005142  decrease   \n",
       "2022-12-28 00:00:00+00:00    5789.399902   3.502571 -0.052816  decrease   \n",
       "2022-12-29 00:00:00+00:00    5915.200195   3.578680  0.076109  increase   \n",
       "2022-12-30 00:00:00+00:00    5944.799805   3.596588  0.017908  increase   \n",
       "\n",
       "                            change%    EUR/TRY  Normalize EUR/TRY month_year  \n",
       "Date                                                                          \n",
       "2021-01-04 00:00:00+00:00       NaN   9.105680           1.002309    2021-01  \n",
       "2021-01-05 00:00:00+00:00 -0.000458   9.088820           1.000454    2021-01  \n",
       "2021-01-06 00:00:00+00:00  0.000638   9.081770           0.999678    2021-01  \n",
       "2021-01-07 00:00:00+00:00  0.000748   9.006140           0.991353    2021-01  \n",
       "2021-01-08 00:00:00+00:00  0.000584   8.998500           0.990512    2021-01  \n",
       "...                             ...        ...                ...        ...  \n",
       "2022-12-23 00:00:00+00:00  0.000021  19.791670           2.178572    2022-12  \n",
       "2022-12-27 00:00:00+00:00 -0.000087  19.815269           2.181169    2022-12  \n",
       "2022-12-28 00:00:00+00:00 -0.000899  19.805389           2.180082    2022-12  \n",
       "2022-12-29 00:00:00+00:00  0.001315  19.867519           2.186921    2022-12  \n",
       "2022-12-30 00:00:00+00:00  0.000303  19.937571           2.194632    2022-12  \n",
       "\n",
       "[490 rows x 8 columns]"
      ]
     },
     "execution_count": 9,
     "metadata": {},
     "output_type": "execute_result"
    }
   ],
   "source": [
    "data[\"month_year\"] = data.index.strftime(\"%Y-%m\")\n",
    "data"
   ]
  },
  {
   "cell_type": "code",
   "execution_count": 10,
   "id": "G4MY78JsFKH4",
   "metadata": {
    "colab": {
     "base_uri": "https://localhost:8080/",
     "height": 834
    },
    "id": "G4MY78JsFKH4",
    "outputId": "3c71dc07-4b2f-4c1a-d91b-ef3a5728128b"
   },
   "outputs": [
    {
     "data": {
      "text/html": [
       "<div>\n",
       "<style scoped>\n",
       "    .dataframe tbody tr th:only-of-type {\n",
       "        vertical-align: middle;\n",
       "    }\n",
       "\n",
       "    .dataframe tbody tr th {\n",
       "        vertical-align: top;\n",
       "    }\n",
       "\n",
       "    .dataframe thead th {\n",
       "        text-align: right;\n",
       "    }\n",
       "</style>\n",
       "<table border=\"1\" class=\"dataframe\">\n",
       "  <thead>\n",
       "    <tr style=\"text-align: right;\">\n",
       "      <th></th>\n",
       "      <th>Closing (TRY)</th>\n",
       "      <th>EUR/TRY</th>\n",
       "    </tr>\n",
       "    <tr>\n",
       "      <th>month_year</th>\n",
       "      <th></th>\n",
       "      <th></th>\n",
       "    </tr>\n",
       "  </thead>\n",
       "  <tbody>\n",
       "    <tr>\n",
       "      <th>2021-01</th>\n",
       "      <td>1572.400024</td>\n",
       "      <td>8.902570</td>\n",
       "    </tr>\n",
       "    <tr>\n",
       "      <th>2021-02</th>\n",
       "      <td>1556.000000</td>\n",
       "      <td>8.904670</td>\n",
       "    </tr>\n",
       "    <tr>\n",
       "      <th>2021-03</th>\n",
       "      <td>1430.699951</td>\n",
       "      <td>9.748300</td>\n",
       "    </tr>\n",
       "    <tr>\n",
       "      <th>2021-04</th>\n",
       "      <td>1456.900024</td>\n",
       "      <td>9.923590</td>\n",
       "    </tr>\n",
       "    <tr>\n",
       "      <th>2021-05</th>\n",
       "      <td>1506.900024</td>\n",
       "      <td>10.347560</td>\n",
       "    </tr>\n",
       "    <tr>\n",
       "      <th>2021-06</th>\n",
       "      <td>1462.900024</td>\n",
       "      <td>10.384030</td>\n",
       "    </tr>\n",
       "    <tr>\n",
       "      <th>2021-07</th>\n",
       "      <td>1500.800049</td>\n",
       "      <td>10.050560</td>\n",
       "    </tr>\n",
       "    <tr>\n",
       "      <th>2021-08</th>\n",
       "      <td>1588.300049</td>\n",
       "      <td>9.869130</td>\n",
       "    </tr>\n",
       "    <tr>\n",
       "      <th>2021-09</th>\n",
       "      <td>1505.199951</td>\n",
       "      <td>10.343790</td>\n",
       "    </tr>\n",
       "    <tr>\n",
       "      <th>2021-10</th>\n",
       "      <td>1635.699951</td>\n",
       "      <td>11.003230</td>\n",
       "    </tr>\n",
       "    <tr>\n",
       "      <th>2021-11</th>\n",
       "      <td>1942.800049</td>\n",
       "      <td>14.347000</td>\n",
       "    </tr>\n",
       "    <tr>\n",
       "      <th>2021-12</th>\n",
       "      <td>2025.000000</td>\n",
       "      <td>14.993060</td>\n",
       "    </tr>\n",
       "    <tr>\n",
       "      <th>2022-01</th>\n",
       "      <td>2202.600098</td>\n",
       "      <td>15.034780</td>\n",
       "    </tr>\n",
       "    <tr>\n",
       "      <th>2022-02</th>\n",
       "      <td>2186.300049</td>\n",
       "      <td>15.688630</td>\n",
       "    </tr>\n",
       "    <tr>\n",
       "      <th>2022-03</th>\n",
       "      <td>2477.199951</td>\n",
       "      <td>16.353970</td>\n",
       "    </tr>\n",
       "    <tr>\n",
       "      <th>2022-04</th>\n",
       "      <td>2704.399902</td>\n",
       "      <td>15.531140</td>\n",
       "    </tr>\n",
       "    <tr>\n",
       "      <th>2022-05</th>\n",
       "      <td>2837.600098</td>\n",
       "      <td>17.646820</td>\n",
       "    </tr>\n",
       "    <tr>\n",
       "      <th>2022-06</th>\n",
       "      <td>2609.199951</td>\n",
       "      <td>17.240959</td>\n",
       "    </tr>\n",
       "    <tr>\n",
       "      <th>2022-07</th>\n",
       "      <td>2760.500000</td>\n",
       "      <td>18.285971</td>\n",
       "    </tr>\n",
       "    <tr>\n",
       "      <th>2022-08</th>\n",
       "      <td>3454.399902</td>\n",
       "      <td>18.194550</td>\n",
       "    </tr>\n",
       "    <tr>\n",
       "      <th>2022-09</th>\n",
       "      <td>3457.600098</td>\n",
       "      <td>18.145809</td>\n",
       "    </tr>\n",
       "    <tr>\n",
       "      <th>2022-10</th>\n",
       "      <td>4330.500000</td>\n",
       "      <td>18.480520</td>\n",
       "    </tr>\n",
       "    <tr>\n",
       "      <th>2022-11</th>\n",
       "      <td>5364.399902</td>\n",
       "      <td>19.230379</td>\n",
       "    </tr>\n",
       "    <tr>\n",
       "      <th>2022-12</th>\n",
       "      <td>5944.799805</td>\n",
       "      <td>19.937571</td>\n",
       "    </tr>\n",
       "  </tbody>\n",
       "</table>\n",
       "</div>"
      ],
      "text/plain": [
       "            Closing (TRY)    EUR/TRY\n",
       "month_year                          \n",
       "2021-01       1572.400024   8.902570\n",
       "2021-02       1556.000000   8.904670\n",
       "2021-03       1430.699951   9.748300\n",
       "2021-04       1456.900024   9.923590\n",
       "2021-05       1506.900024  10.347560\n",
       "2021-06       1462.900024  10.384030\n",
       "2021-07       1500.800049  10.050560\n",
       "2021-08       1588.300049   9.869130\n",
       "2021-09       1505.199951  10.343790\n",
       "2021-10       1635.699951  11.003230\n",
       "2021-11       1942.800049  14.347000\n",
       "2021-12       2025.000000  14.993060\n",
       "2022-01       2202.600098  15.034780\n",
       "2022-02       2186.300049  15.688630\n",
       "2022-03       2477.199951  16.353970\n",
       "2022-04       2704.399902  15.531140\n",
       "2022-05       2837.600098  17.646820\n",
       "2022-06       2609.199951  17.240959\n",
       "2022-07       2760.500000  18.285971\n",
       "2022-08       3454.399902  18.194550\n",
       "2022-09       3457.600098  18.145809\n",
       "2022-10       4330.500000  18.480520\n",
       "2022-11       5364.399902  19.230379\n",
       "2022-12       5944.799805  19.937571"
      ]
     },
     "execution_count": 10,
     "metadata": {},
     "output_type": "execute_result"
    }
   ],
   "source": [
    "end_of_month = data.pivot_table(values=[\"Closing (TRY)\",\"EUR/TRY\"],index= \"month_year\", aggfunc=\"last\")\n",
    "end_of_month"
   ]
  },
  {
   "cell_type": "markdown",
   "id": "a43d3737",
   "metadata": {
    "id": "a43d3737"
   },
   "source": [
    "2. The table produced with monthly breakdown was examined graphically.\n"
   ]
  },
  {
   "cell_type": "code",
   "execution_count": 11,
   "id": "KNSJOKIvLQFV",
   "metadata": {
    "colab": {
     "base_uri": "https://localhost:8080/",
     "height": 834
    },
    "id": "KNSJOKIvLQFV",
    "outputId": "54709e33-2228-4223-9835-41a397d5e5cd"
   },
   "outputs": [
    {
     "data": {
      "text/html": [
       "<div>\n",
       "<style scoped>\n",
       "    .dataframe tbody tr th:only-of-type {\n",
       "        vertical-align: middle;\n",
       "    }\n",
       "\n",
       "    .dataframe tbody tr th {\n",
       "        vertical-align: top;\n",
       "    }\n",
       "\n",
       "    .dataframe thead th {\n",
       "        text-align: right;\n",
       "    }\n",
       "</style>\n",
       "<table border=\"1\" class=\"dataframe\">\n",
       "  <thead>\n",
       "    <tr style=\"text-align: right;\">\n",
       "      <th></th>\n",
       "      <th>Closing (TRY)</th>\n",
       "      <th>EUR/TRY</th>\n",
       "      <th>Normalize</th>\n",
       "      <th>change</th>\n",
       "      <th>direction</th>\n",
       "      <th>change%</th>\n",
       "    </tr>\n",
       "    <tr>\n",
       "      <th>month_year</th>\n",
       "      <th></th>\n",
       "      <th></th>\n",
       "      <th></th>\n",
       "      <th></th>\n",
       "      <th></th>\n",
       "      <th></th>\n",
       "    </tr>\n",
       "  </thead>\n",
       "  <tbody>\n",
       "    <tr>\n",
       "      <th>2021-01</th>\n",
       "      <td>1572.400024</td>\n",
       "      <td>8.902570</td>\n",
       "      <td>0.951298</td>\n",
       "      <td>NaN</td>\n",
       "      <td>increase</td>\n",
       "      <td>NaN</td>\n",
       "    </tr>\n",
       "    <tr>\n",
       "      <th>2021-02</th>\n",
       "      <td>1556.000000</td>\n",
       "      <td>8.904670</td>\n",
       "      <td>0.941376</td>\n",
       "      <td>-16.400024</td>\n",
       "      <td>decrease</td>\n",
       "      <td>-0.010430</td>\n",
       "    </tr>\n",
       "    <tr>\n",
       "      <th>2021-03</th>\n",
       "      <td>1430.699951</td>\n",
       "      <td>9.748300</td>\n",
       "      <td>0.865570</td>\n",
       "      <td>-125.300049</td>\n",
       "      <td>decrease</td>\n",
       "      <td>-0.080527</td>\n",
       "    </tr>\n",
       "    <tr>\n",
       "      <th>2021-04</th>\n",
       "      <td>1456.900024</td>\n",
       "      <td>9.923590</td>\n",
       "      <td>0.881421</td>\n",
       "      <td>26.200073</td>\n",
       "      <td>increase</td>\n",
       "      <td>0.018313</td>\n",
       "    </tr>\n",
       "    <tr>\n",
       "      <th>2021-05</th>\n",
       "      <td>1506.900024</td>\n",
       "      <td>10.347560</td>\n",
       "      <td>0.911670</td>\n",
       "      <td>50.000000</td>\n",
       "      <td>increase</td>\n",
       "      <td>0.034319</td>\n",
       "    </tr>\n",
       "    <tr>\n",
       "      <th>2021-06</th>\n",
       "      <td>1462.900024</td>\n",
       "      <td>10.384030</td>\n",
       "      <td>0.885051</td>\n",
       "      <td>-44.000000</td>\n",
       "      <td>decrease</td>\n",
       "      <td>-0.029199</td>\n",
       "    </tr>\n",
       "    <tr>\n",
       "      <th>2021-07</th>\n",
       "      <td>1500.800049</td>\n",
       "      <td>10.050560</td>\n",
       "      <td>0.907980</td>\n",
       "      <td>37.900024</td>\n",
       "      <td>increase</td>\n",
       "      <td>0.025907</td>\n",
       "    </tr>\n",
       "    <tr>\n",
       "      <th>2021-08</th>\n",
       "      <td>1588.300049</td>\n",
       "      <td>9.869130</td>\n",
       "      <td>0.960917</td>\n",
       "      <td>87.500000</td>\n",
       "      <td>increase</td>\n",
       "      <td>0.058302</td>\n",
       "    </tr>\n",
       "    <tr>\n",
       "      <th>2021-09</th>\n",
       "      <td>1505.199951</td>\n",
       "      <td>10.343790</td>\n",
       "      <td>0.910642</td>\n",
       "      <td>-83.100098</td>\n",
       "      <td>decrease</td>\n",
       "      <td>-0.052320</td>\n",
       "    </tr>\n",
       "    <tr>\n",
       "      <th>2021-10</th>\n",
       "      <td>1635.699951</td>\n",
       "      <td>11.003230</td>\n",
       "      <td>0.989594</td>\n",
       "      <td>130.500000</td>\n",
       "      <td>increase</td>\n",
       "      <td>0.086699</td>\n",
       "    </tr>\n",
       "    <tr>\n",
       "      <th>2021-11</th>\n",
       "      <td>1942.800049</td>\n",
       "      <td>14.347000</td>\n",
       "      <td>1.175389</td>\n",
       "      <td>307.100098</td>\n",
       "      <td>increase</td>\n",
       "      <td>0.187748</td>\n",
       "    </tr>\n",
       "    <tr>\n",
       "      <th>2021-12</th>\n",
       "      <td>2025.000000</td>\n",
       "      <td>14.993060</td>\n",
       "      <td>1.225119</td>\n",
       "      <td>82.199951</td>\n",
       "      <td>increase</td>\n",
       "      <td>0.042310</td>\n",
       "    </tr>\n",
       "    <tr>\n",
       "      <th>2022-01</th>\n",
       "      <td>2202.600098</td>\n",
       "      <td>15.034780</td>\n",
       "      <td>1.332567</td>\n",
       "      <td>177.600098</td>\n",
       "      <td>increase</td>\n",
       "      <td>0.087704</td>\n",
       "    </tr>\n",
       "    <tr>\n",
       "      <th>2022-02</th>\n",
       "      <td>2186.300049</td>\n",
       "      <td>15.688630</td>\n",
       "      <td>1.322706</td>\n",
       "      <td>-16.300049</td>\n",
       "      <td>decrease</td>\n",
       "      <td>-0.007400</td>\n",
       "    </tr>\n",
       "    <tr>\n",
       "      <th>2022-03</th>\n",
       "      <td>2477.199951</td>\n",
       "      <td>16.353970</td>\n",
       "      <td>1.498699</td>\n",
       "      <td>290.899902</td>\n",
       "      <td>increase</td>\n",
       "      <td>0.133056</td>\n",
       "    </tr>\n",
       "    <tr>\n",
       "      <th>2022-04</th>\n",
       "      <td>2704.399902</td>\n",
       "      <td>15.531140</td>\n",
       "      <td>1.636155</td>\n",
       "      <td>227.199951</td>\n",
       "      <td>increase</td>\n",
       "      <td>0.091716</td>\n",
       "    </tr>\n",
       "    <tr>\n",
       "      <th>2022-05</th>\n",
       "      <td>2837.600098</td>\n",
       "      <td>17.646820</td>\n",
       "      <td>1.716740</td>\n",
       "      <td>133.200195</td>\n",
       "      <td>increase</td>\n",
       "      <td>0.049253</td>\n",
       "    </tr>\n",
       "    <tr>\n",
       "      <th>2022-06</th>\n",
       "      <td>2609.199951</td>\n",
       "      <td>17.240959</td>\n",
       "      <td>1.578559</td>\n",
       "      <td>-228.400146</td>\n",
       "      <td>decrease</td>\n",
       "      <td>-0.080491</td>\n",
       "    </tr>\n",
       "    <tr>\n",
       "      <th>2022-07</th>\n",
       "      <td>2760.500000</td>\n",
       "      <td>18.285971</td>\n",
       "      <td>1.670095</td>\n",
       "      <td>151.300049</td>\n",
       "      <td>increase</td>\n",
       "      <td>0.057987</td>\n",
       "    </tr>\n",
       "    <tr>\n",
       "      <th>2022-08</th>\n",
       "      <td>3454.399902</td>\n",
       "      <td>18.194550</td>\n",
       "      <td>2.089903</td>\n",
       "      <td>693.899902</td>\n",
       "      <td>increase</td>\n",
       "      <td>0.251367</td>\n",
       "    </tr>\n",
       "    <tr>\n",
       "      <th>2022-09</th>\n",
       "      <td>3457.600098</td>\n",
       "      <td>18.145809</td>\n",
       "      <td>2.091839</td>\n",
       "      <td>3.200195</td>\n",
       "      <td>increase</td>\n",
       "      <td>0.000926</td>\n",
       "    </tr>\n",
       "    <tr>\n",
       "      <th>2022-10</th>\n",
       "      <td>4330.500000</td>\n",
       "      <td>18.480520</td>\n",
       "      <td>2.619941</td>\n",
       "      <td>872.899902</td>\n",
       "      <td>increase</td>\n",
       "      <td>0.252458</td>\n",
       "    </tr>\n",
       "    <tr>\n",
       "      <th>2022-11</th>\n",
       "      <td>5364.399902</td>\n",
       "      <td>19.230379</td>\n",
       "      <td>3.245447</td>\n",
       "      <td>1033.899902</td>\n",
       "      <td>increase</td>\n",
       "      <td>0.238748</td>\n",
       "    </tr>\n",
       "    <tr>\n",
       "      <th>2022-12</th>\n",
       "      <td>5944.799805</td>\n",
       "      <td>19.937571</td>\n",
       "      <td>3.596588</td>\n",
       "      <td>580.399902</td>\n",
       "      <td>increase</td>\n",
       "      <td>0.108195</td>\n",
       "    </tr>\n",
       "  </tbody>\n",
       "</table>\n",
       "</div>"
      ],
      "text/plain": [
       "            Closing (TRY)    EUR/TRY  Normalize       change direction   \n",
       "month_year                                                               \n",
       "2021-01       1572.400024   8.902570   0.951298          NaN  increase  \\\n",
       "2021-02       1556.000000   8.904670   0.941376   -16.400024  decrease   \n",
       "2021-03       1430.699951   9.748300   0.865570  -125.300049  decrease   \n",
       "2021-04       1456.900024   9.923590   0.881421    26.200073  increase   \n",
       "2021-05       1506.900024  10.347560   0.911670    50.000000  increase   \n",
       "2021-06       1462.900024  10.384030   0.885051   -44.000000  decrease   \n",
       "2021-07       1500.800049  10.050560   0.907980    37.900024  increase   \n",
       "2021-08       1588.300049   9.869130   0.960917    87.500000  increase   \n",
       "2021-09       1505.199951  10.343790   0.910642   -83.100098  decrease   \n",
       "2021-10       1635.699951  11.003230   0.989594   130.500000  increase   \n",
       "2021-11       1942.800049  14.347000   1.175389   307.100098  increase   \n",
       "2021-12       2025.000000  14.993060   1.225119    82.199951  increase   \n",
       "2022-01       2202.600098  15.034780   1.332567   177.600098  increase   \n",
       "2022-02       2186.300049  15.688630   1.322706   -16.300049  decrease   \n",
       "2022-03       2477.199951  16.353970   1.498699   290.899902  increase   \n",
       "2022-04       2704.399902  15.531140   1.636155   227.199951  increase   \n",
       "2022-05       2837.600098  17.646820   1.716740   133.200195  increase   \n",
       "2022-06       2609.199951  17.240959   1.578559  -228.400146  decrease   \n",
       "2022-07       2760.500000  18.285971   1.670095   151.300049  increase   \n",
       "2022-08       3454.399902  18.194550   2.089903   693.899902  increase   \n",
       "2022-09       3457.600098  18.145809   2.091839     3.200195  increase   \n",
       "2022-10       4330.500000  18.480520   2.619941   872.899902  increase   \n",
       "2022-11       5364.399902  19.230379   3.245447  1033.899902  increase   \n",
       "2022-12       5944.799805  19.937571   3.596588   580.399902  increase   \n",
       "\n",
       "             change%  \n",
       "month_year            \n",
       "2021-01          NaN  \n",
       "2021-02    -0.010430  \n",
       "2021-03    -0.080527  \n",
       "2021-04     0.018313  \n",
       "2021-05     0.034319  \n",
       "2021-06    -0.029199  \n",
       "2021-07     0.025907  \n",
       "2021-08     0.058302  \n",
       "2021-09    -0.052320  \n",
       "2021-10     0.086699  \n",
       "2021-11     0.187748  \n",
       "2021-12     0.042310  \n",
       "2022-01     0.087704  \n",
       "2022-02    -0.007400  \n",
       "2022-03     0.133056  \n",
       "2022-04     0.091716  \n",
       "2022-05     0.049253  \n",
       "2022-06    -0.080491  \n",
       "2022-07     0.057987  \n",
       "2022-08     0.251367  \n",
       "2022-09     0.000926  \n",
       "2022-10     0.252458  \n",
       "2022-11     0.238748  \n",
       "2022-12     0.108195  "
      ]
     },
     "execution_count": 11,
     "metadata": {},
     "output_type": "execute_result"
    }
   ],
   "source": [
    "end_of_month[\"Normalize\"] = end_of_month[\"Closing (TRY)\"]/b30.iloc[0,0]\n",
    "end_of_month[\"change\"] = end_of_month[\"Closing (TRY)\"].diff(1)\n",
    "end_of_month[\"direction\"] = end_of_month[\"change\"].map(lambda x: \"decrease\" if x<0 else \"increase\")\n",
    "end_of_month[\"change%\"] = end_of_month[\"change\"]/end_of_month[\"Closing (TRY)\"].shift(1)\n",
    "end_of_month"
   ]
  },
  {
   "cell_type": "code",
   "execution_count": 12,
   "id": "xkta0zFwxVoA",
   "metadata": {
    "colab": {
     "base_uri": "https://localhost:8080/",
     "height": 542
    },
    "id": "xkta0zFwxVoA",
    "outputId": "a3b5fcdc-d395-4723-99ad-2e217d49a53f"
   },
   "outputs": [
    {
     "data": {
      "application/vnd.plotly.v1+json": {
       "config": {
        "plotlyServerURL": "https://plot.ly"
       },
       "data": [
        {
         "alignmentgroup": "True",
         "hovertemplate": "direction=increase<br>month_year=%{x}<br>change%=%{y}<extra></extra>",
         "legendgroup": "increase",
         "marker": {
          "color": "green",
          "pattern": {
           "shape": ""
          }
         },
         "name": "increase",
         "offsetgroup": "increase",
         "orientation": "v",
         "showlegend": true,
         "textposition": "auto",
         "texttemplate": "%{y:.1%}",
         "type": "bar",
         "x": [
          "2021-01",
          "2021-04",
          "2021-05",
          "2021-07",
          "2021-08",
          "2021-10",
          "2021-11",
          "2021-12",
          "2022-01",
          "2022-03",
          "2022-04",
          "2022-05",
          "2022-07",
          "2022-08",
          "2022-09",
          "2022-10",
          "2022-11",
          "2022-12"
         ],
         "xaxis": "x",
         "y": [
          null,
          0.018312765874303152,
          0.034319444822652846,
          0.02590746037429499,
          0.05830223690912253,
          0.08669944474712418,
          0.18774842992214574,
          0.04231004174693998,
          0.08770375192901235,
          0.13305580014036716,
          0.0917164361578462,
          0.04925314307143072,
          0.05798714228864343,
          0.2513674705103242,
          0.0009264113602853924,
          0.25245831724017165,
          0.23874838987270522,
          0.10819474925614113
         ],
         "yaxis": "y"
        },
        {
         "alignmentgroup": "True",
         "hovertemplate": "direction=decrease<br>month_year=%{x}<br>change%=%{y}<extra></extra>",
         "legendgroup": "decrease",
         "marker": {
          "color": "red",
          "pattern": {
           "shape": ""
          }
         },
         "name": "decrease",
         "offsetgroup": "decrease",
         "orientation": "v",
         "showlegend": true,
         "textposition": "auto",
         "texttemplate": "%{y:.1%}",
         "type": "bar",
         "x": [
          "2021-02",
          "2021-03",
          "2021-06",
          "2021-09",
          "2022-02",
          "2022-06"
         ],
         "xaxis": "x",
         "y": [
          -0.010429931416576891,
          -0.0805270236684608,
          -0.029199017378149422,
          -0.05232015053929053,
          -0.007400366887057533,
          -0.08049060425146759
         ],
         "yaxis": "y"
        }
       ],
       "layout": {
        "barmode": "relative",
        "legend": {
         "title": {
          "text": "direction"
         },
         "tracegroupgap": 0
        },
        "margin": {
         "t": 60
        },
        "template": {
         "data": {
          "bar": [
           {
            "error_x": {
             "color": "#2a3f5f"
            },
            "error_y": {
             "color": "#2a3f5f"
            },
            "marker": {
             "line": {
              "color": "#E5ECF6",
              "width": 0.5
             },
             "pattern": {
              "fillmode": "overlay",
              "size": 10,
              "solidity": 0.2
             }
            },
            "type": "bar"
           }
          ],
          "barpolar": [
           {
            "marker": {
             "line": {
              "color": "#E5ECF6",
              "width": 0.5
             },
             "pattern": {
              "fillmode": "overlay",
              "size": 10,
              "solidity": 0.2
             }
            },
            "type": "barpolar"
           }
          ],
          "carpet": [
           {
            "aaxis": {
             "endlinecolor": "#2a3f5f",
             "gridcolor": "white",
             "linecolor": "white",
             "minorgridcolor": "white",
             "startlinecolor": "#2a3f5f"
            },
            "baxis": {
             "endlinecolor": "#2a3f5f",
             "gridcolor": "white",
             "linecolor": "white",
             "minorgridcolor": "white",
             "startlinecolor": "#2a3f5f"
            },
            "type": "carpet"
           }
          ],
          "choropleth": [
           {
            "colorbar": {
             "outlinewidth": 0,
             "ticks": ""
            },
            "type": "choropleth"
           }
          ],
          "contour": [
           {
            "colorbar": {
             "outlinewidth": 0,
             "ticks": ""
            },
            "colorscale": [
             [
              0,
              "#0d0887"
             ],
             [
              0.1111111111111111,
              "#46039f"
             ],
             [
              0.2222222222222222,
              "#7201a8"
             ],
             [
              0.3333333333333333,
              "#9c179e"
             ],
             [
              0.4444444444444444,
              "#bd3786"
             ],
             [
              0.5555555555555556,
              "#d8576b"
             ],
             [
              0.6666666666666666,
              "#ed7953"
             ],
             [
              0.7777777777777778,
              "#fb9f3a"
             ],
             [
              0.8888888888888888,
              "#fdca26"
             ],
             [
              1,
              "#f0f921"
             ]
            ],
            "type": "contour"
           }
          ],
          "contourcarpet": [
           {
            "colorbar": {
             "outlinewidth": 0,
             "ticks": ""
            },
            "type": "contourcarpet"
           }
          ],
          "heatmap": [
           {
            "colorbar": {
             "outlinewidth": 0,
             "ticks": ""
            },
            "colorscale": [
             [
              0,
              "#0d0887"
             ],
             [
              0.1111111111111111,
              "#46039f"
             ],
             [
              0.2222222222222222,
              "#7201a8"
             ],
             [
              0.3333333333333333,
              "#9c179e"
             ],
             [
              0.4444444444444444,
              "#bd3786"
             ],
             [
              0.5555555555555556,
              "#d8576b"
             ],
             [
              0.6666666666666666,
              "#ed7953"
             ],
             [
              0.7777777777777778,
              "#fb9f3a"
             ],
             [
              0.8888888888888888,
              "#fdca26"
             ],
             [
              1,
              "#f0f921"
             ]
            ],
            "type": "heatmap"
           }
          ],
          "heatmapgl": [
           {
            "colorbar": {
             "outlinewidth": 0,
             "ticks": ""
            },
            "colorscale": [
             [
              0,
              "#0d0887"
             ],
             [
              0.1111111111111111,
              "#46039f"
             ],
             [
              0.2222222222222222,
              "#7201a8"
             ],
             [
              0.3333333333333333,
              "#9c179e"
             ],
             [
              0.4444444444444444,
              "#bd3786"
             ],
             [
              0.5555555555555556,
              "#d8576b"
             ],
             [
              0.6666666666666666,
              "#ed7953"
             ],
             [
              0.7777777777777778,
              "#fb9f3a"
             ],
             [
              0.8888888888888888,
              "#fdca26"
             ],
             [
              1,
              "#f0f921"
             ]
            ],
            "type": "heatmapgl"
           }
          ],
          "histogram": [
           {
            "marker": {
             "pattern": {
              "fillmode": "overlay",
              "size": 10,
              "solidity": 0.2
             }
            },
            "type": "histogram"
           }
          ],
          "histogram2d": [
           {
            "colorbar": {
             "outlinewidth": 0,
             "ticks": ""
            },
            "colorscale": [
             [
              0,
              "#0d0887"
             ],
             [
              0.1111111111111111,
              "#46039f"
             ],
             [
              0.2222222222222222,
              "#7201a8"
             ],
             [
              0.3333333333333333,
              "#9c179e"
             ],
             [
              0.4444444444444444,
              "#bd3786"
             ],
             [
              0.5555555555555556,
              "#d8576b"
             ],
             [
              0.6666666666666666,
              "#ed7953"
             ],
             [
              0.7777777777777778,
              "#fb9f3a"
             ],
             [
              0.8888888888888888,
              "#fdca26"
             ],
             [
              1,
              "#f0f921"
             ]
            ],
            "type": "histogram2d"
           }
          ],
          "histogram2dcontour": [
           {
            "colorbar": {
             "outlinewidth": 0,
             "ticks": ""
            },
            "colorscale": [
             [
              0,
              "#0d0887"
             ],
             [
              0.1111111111111111,
              "#46039f"
             ],
             [
              0.2222222222222222,
              "#7201a8"
             ],
             [
              0.3333333333333333,
              "#9c179e"
             ],
             [
              0.4444444444444444,
              "#bd3786"
             ],
             [
              0.5555555555555556,
              "#d8576b"
             ],
             [
              0.6666666666666666,
              "#ed7953"
             ],
             [
              0.7777777777777778,
              "#fb9f3a"
             ],
             [
              0.8888888888888888,
              "#fdca26"
             ],
             [
              1,
              "#f0f921"
             ]
            ],
            "type": "histogram2dcontour"
           }
          ],
          "mesh3d": [
           {
            "colorbar": {
             "outlinewidth": 0,
             "ticks": ""
            },
            "type": "mesh3d"
           }
          ],
          "parcoords": [
           {
            "line": {
             "colorbar": {
              "outlinewidth": 0,
              "ticks": ""
             }
            },
            "type": "parcoords"
           }
          ],
          "pie": [
           {
            "automargin": true,
            "type": "pie"
           }
          ],
          "scatter": [
           {
            "fillpattern": {
             "fillmode": "overlay",
             "size": 10,
             "solidity": 0.2
            },
            "type": "scatter"
           }
          ],
          "scatter3d": [
           {
            "line": {
             "colorbar": {
              "outlinewidth": 0,
              "ticks": ""
             }
            },
            "marker": {
             "colorbar": {
              "outlinewidth": 0,
              "ticks": ""
             }
            },
            "type": "scatter3d"
           }
          ],
          "scattercarpet": [
           {
            "marker": {
             "colorbar": {
              "outlinewidth": 0,
              "ticks": ""
             }
            },
            "type": "scattercarpet"
           }
          ],
          "scattergeo": [
           {
            "marker": {
             "colorbar": {
              "outlinewidth": 0,
              "ticks": ""
             }
            },
            "type": "scattergeo"
           }
          ],
          "scattergl": [
           {
            "marker": {
             "colorbar": {
              "outlinewidth": 0,
              "ticks": ""
             }
            },
            "type": "scattergl"
           }
          ],
          "scattermapbox": [
           {
            "marker": {
             "colorbar": {
              "outlinewidth": 0,
              "ticks": ""
             }
            },
            "type": "scattermapbox"
           }
          ],
          "scatterpolar": [
           {
            "marker": {
             "colorbar": {
              "outlinewidth": 0,
              "ticks": ""
             }
            },
            "type": "scatterpolar"
           }
          ],
          "scatterpolargl": [
           {
            "marker": {
             "colorbar": {
              "outlinewidth": 0,
              "ticks": ""
             }
            },
            "type": "scatterpolargl"
           }
          ],
          "scatterternary": [
           {
            "marker": {
             "colorbar": {
              "outlinewidth": 0,
              "ticks": ""
             }
            },
            "type": "scatterternary"
           }
          ],
          "surface": [
           {
            "colorbar": {
             "outlinewidth": 0,
             "ticks": ""
            },
            "colorscale": [
             [
              0,
              "#0d0887"
             ],
             [
              0.1111111111111111,
              "#46039f"
             ],
             [
              0.2222222222222222,
              "#7201a8"
             ],
             [
              0.3333333333333333,
              "#9c179e"
             ],
             [
              0.4444444444444444,
              "#bd3786"
             ],
             [
              0.5555555555555556,
              "#d8576b"
             ],
             [
              0.6666666666666666,
              "#ed7953"
             ],
             [
              0.7777777777777778,
              "#fb9f3a"
             ],
             [
              0.8888888888888888,
              "#fdca26"
             ],
             [
              1,
              "#f0f921"
             ]
            ],
            "type": "surface"
           }
          ],
          "table": [
           {
            "cells": {
             "fill": {
              "color": "#EBF0F8"
             },
             "line": {
              "color": "white"
             }
            },
            "header": {
             "fill": {
              "color": "#C8D4E3"
             },
             "line": {
              "color": "white"
             }
            },
            "type": "table"
           }
          ]
         },
         "layout": {
          "annotationdefaults": {
           "arrowcolor": "#2a3f5f",
           "arrowhead": 0,
           "arrowwidth": 1
          },
          "autotypenumbers": "strict",
          "coloraxis": {
           "colorbar": {
            "outlinewidth": 0,
            "ticks": ""
           }
          },
          "colorscale": {
           "diverging": [
            [
             0,
             "#8e0152"
            ],
            [
             0.1,
             "#c51b7d"
            ],
            [
             0.2,
             "#de77ae"
            ],
            [
             0.3,
             "#f1b6da"
            ],
            [
             0.4,
             "#fde0ef"
            ],
            [
             0.5,
             "#f7f7f7"
            ],
            [
             0.6,
             "#e6f5d0"
            ],
            [
             0.7,
             "#b8e186"
            ],
            [
             0.8,
             "#7fbc41"
            ],
            [
             0.9,
             "#4d9221"
            ],
            [
             1,
             "#276419"
            ]
           ],
           "sequential": [
            [
             0,
             "#0d0887"
            ],
            [
             0.1111111111111111,
             "#46039f"
            ],
            [
             0.2222222222222222,
             "#7201a8"
            ],
            [
             0.3333333333333333,
             "#9c179e"
            ],
            [
             0.4444444444444444,
             "#bd3786"
            ],
            [
             0.5555555555555556,
             "#d8576b"
            ],
            [
             0.6666666666666666,
             "#ed7953"
            ],
            [
             0.7777777777777778,
             "#fb9f3a"
            ],
            [
             0.8888888888888888,
             "#fdca26"
            ],
            [
             1,
             "#f0f921"
            ]
           ],
           "sequentialminus": [
            [
             0,
             "#0d0887"
            ],
            [
             0.1111111111111111,
             "#46039f"
            ],
            [
             0.2222222222222222,
             "#7201a8"
            ],
            [
             0.3333333333333333,
             "#9c179e"
            ],
            [
             0.4444444444444444,
             "#bd3786"
            ],
            [
             0.5555555555555556,
             "#d8576b"
            ],
            [
             0.6666666666666666,
             "#ed7953"
            ],
            [
             0.7777777777777778,
             "#fb9f3a"
            ],
            [
             0.8888888888888888,
             "#fdca26"
            ],
            [
             1,
             "#f0f921"
            ]
           ]
          },
          "colorway": [
           "#636efa",
           "#EF553B",
           "#00cc96",
           "#ab63fa",
           "#FFA15A",
           "#19d3f3",
           "#FF6692",
           "#B6E880",
           "#FF97FF",
           "#FECB52"
          ],
          "font": {
           "color": "#2a3f5f"
          },
          "geo": {
           "bgcolor": "white",
           "lakecolor": "white",
           "landcolor": "#E5ECF6",
           "showlakes": true,
           "showland": true,
           "subunitcolor": "white"
          },
          "hoverlabel": {
           "align": "left"
          },
          "hovermode": "closest",
          "mapbox": {
           "style": "light"
          },
          "paper_bgcolor": "white",
          "plot_bgcolor": "#E5ECF6",
          "polar": {
           "angularaxis": {
            "gridcolor": "white",
            "linecolor": "white",
            "ticks": ""
           },
           "bgcolor": "#E5ECF6",
           "radialaxis": {
            "gridcolor": "white",
            "linecolor": "white",
            "ticks": ""
           }
          },
          "scene": {
           "xaxis": {
            "backgroundcolor": "#E5ECF6",
            "gridcolor": "white",
            "gridwidth": 2,
            "linecolor": "white",
            "showbackground": true,
            "ticks": "",
            "zerolinecolor": "white"
           },
           "yaxis": {
            "backgroundcolor": "#E5ECF6",
            "gridcolor": "white",
            "gridwidth": 2,
            "linecolor": "white",
            "showbackground": true,
            "ticks": "",
            "zerolinecolor": "white"
           },
           "zaxis": {
            "backgroundcolor": "#E5ECF6",
            "gridcolor": "white",
            "gridwidth": 2,
            "linecolor": "white",
            "showbackground": true,
            "ticks": "",
            "zerolinecolor": "white"
           }
          },
          "shapedefaults": {
           "line": {
            "color": "#2a3f5f"
           }
          },
          "ternary": {
           "aaxis": {
            "gridcolor": "white",
            "linecolor": "white",
            "ticks": ""
           },
           "baxis": {
            "gridcolor": "white",
            "linecolor": "white",
            "ticks": ""
           },
           "bgcolor": "#E5ECF6",
           "caxis": {
            "gridcolor": "white",
            "linecolor": "white",
            "ticks": ""
           }
          },
          "title": {
           "x": 0.05
          },
          "xaxis": {
           "automargin": true,
           "gridcolor": "white",
           "linecolor": "white",
           "ticks": "",
           "title": {
            "standoff": 15
           },
           "zerolinecolor": "white",
           "zerolinewidth": 2
          },
          "yaxis": {
           "automargin": true,
           "gridcolor": "white",
           "linecolor": "white",
           "ticks": "",
           "title": {
            "standoff": 15
           },
           "zerolinecolor": "white",
           "zerolinewidth": 2
          }
         }
        },
        "xaxis": {
         "anchor": "y",
         "domain": [
          0,
          1
         ],
         "title": {
          "text": "month_year"
         }
        },
        "yaxis": {
         "anchor": "x",
         "domain": [
          0,
          1
         ],
         "title": {
          "text": "change%"
         }
        }
       }
      }
     },
     "metadata": {},
     "output_type": "display_data"
    }
   ],
   "source": [
    "px.bar(end_of_month, y = \"change%\", color = \"direction\", color_discrete_map={\"decrease\" : \"red\", \"increase\" : \"green\"}, text_auto=\".1%\")"
   ]
  },
  {
   "cell_type": "code",
   "execution_count": 13,
   "id": "Cd9KrAewTJ4K",
   "metadata": {
    "id": "Cd9KrAewTJ4K"
   },
   "outputs": [],
   "source": [
    "### It experienced a sharp monthly decline of 8% in March 2021 and June 2022. It also experienced a 5% decline in September 2021."
   ]
  },
  {
   "cell_type": "markdown",
   "id": "3wtDL19Rwwzi",
   "metadata": {
    "id": "3wtDL19Rwwzi"
   },
   "source": [
    "3. From the composite table containing BIST30 and EUR/USD exchange rates for 2021 and 2022, a table containing only the values ​​for the last business day of the month was also produced using the resample method."
   ]
  },
  {
   "cell_type": "code",
   "execution_count": 14,
   "id": "86U-4Gn9xp_B",
   "metadata": {
    "colab": {
     "base_uri": "https://localhost:8080/",
     "height": 972
    },
    "id": "86U-4Gn9xp_B",
    "outputId": "118a7515-2898-4661-8dd2-ab8e78d73d05"
   },
   "outputs": [
    {
     "data": {
      "text/html": [
       "<div>\n",
       "<style scoped>\n",
       "    .dataframe tbody tr th:only-of-type {\n",
       "        vertical-align: middle;\n",
       "    }\n",
       "\n",
       "    .dataframe tbody tr th {\n",
       "        vertical-align: top;\n",
       "    }\n",
       "\n",
       "    .dataframe thead th {\n",
       "        text-align: right;\n",
       "    }\n",
       "</style>\n",
       "<table border=\"1\" class=\"dataframe\">\n",
       "  <thead>\n",
       "    <tr style=\"text-align: right;\">\n",
       "      <th></th>\n",
       "      <th>Closing (TRY)</th>\n",
       "      <th>Normalize</th>\n",
       "      <th>change</th>\n",
       "      <th>direction</th>\n",
       "      <th>change%</th>\n",
       "      <th>EUR/TRY</th>\n",
       "      <th>Normalize EUR/TRY</th>\n",
       "      <th>month_year</th>\n",
       "    </tr>\n",
       "    <tr>\n",
       "      <th>Date</th>\n",
       "      <th></th>\n",
       "      <th></th>\n",
       "      <th></th>\n",
       "      <th></th>\n",
       "      <th></th>\n",
       "      <th></th>\n",
       "      <th></th>\n",
       "      <th></th>\n",
       "    </tr>\n",
       "  </thead>\n",
       "  <tbody>\n",
       "    <tr>\n",
       "      <th>2021-01-29 00:00:00+00:00</th>\n",
       "      <td>1572.400024</td>\n",
       "      <td>0.951298</td>\n",
       "      <td>-0.017847</td>\n",
       "      <td>decrease</td>\n",
       "      <td>-0.001114</td>\n",
       "      <td>8.902570</td>\n",
       "      <td>0.979952</td>\n",
       "      <td>2021-01</td>\n",
       "    </tr>\n",
       "    <tr>\n",
       "      <th>2021-02-26 00:00:00+00:00</th>\n",
       "      <td>1556.000000</td>\n",
       "      <td>0.941376</td>\n",
       "      <td>-0.010950</td>\n",
       "      <td>decrease</td>\n",
       "      <td>-0.000696</td>\n",
       "      <td>8.904670</td>\n",
       "      <td>0.980183</td>\n",
       "      <td>2021-02</td>\n",
       "    </tr>\n",
       "    <tr>\n",
       "      <th>2021-03-31 00:00:00+00:00</th>\n",
       "      <td>1430.699951</td>\n",
       "      <td>0.865570</td>\n",
       "      <td>-0.000726</td>\n",
       "      <td>decrease</td>\n",
       "      <td>-0.000051</td>\n",
       "      <td>9.748300</td>\n",
       "      <td>1.073046</td>\n",
       "      <td>2021-03</td>\n",
       "    </tr>\n",
       "    <tr>\n",
       "      <th>2021-04-30 00:00:00+00:00</th>\n",
       "      <td>1456.900024</td>\n",
       "      <td>0.881421</td>\n",
       "      <td>-0.005263</td>\n",
       "      <td>decrease</td>\n",
       "      <td>-0.000359</td>\n",
       "      <td>9.923590</td>\n",
       "      <td>1.092341</td>\n",
       "      <td>2021-04</td>\n",
       "    </tr>\n",
       "    <tr>\n",
       "      <th>2021-05-31 00:00:00+00:00</th>\n",
       "      <td>NaN</td>\n",
       "      <td>NaN</td>\n",
       "      <td>NaN</td>\n",
       "      <td>NaN</td>\n",
       "      <td>NaN</td>\n",
       "      <td>NaN</td>\n",
       "      <td>NaN</td>\n",
       "      <td>NaN</td>\n",
       "    </tr>\n",
       "    <tr>\n",
       "      <th>2021-06-30 00:00:00+00:00</th>\n",
       "      <td>1462.900024</td>\n",
       "      <td>0.885051</td>\n",
       "      <td>-0.012160</td>\n",
       "      <td>decrease</td>\n",
       "      <td>-0.000820</td>\n",
       "      <td>10.384030</td>\n",
       "      <td>1.143024</td>\n",
       "      <td>2021-06</td>\n",
       "    </tr>\n",
       "    <tr>\n",
       "      <th>2021-07-30 00:00:00+00:00</th>\n",
       "      <td>1500.800049</td>\n",
       "      <td>0.907980</td>\n",
       "      <td>0.000545</td>\n",
       "      <td>increase</td>\n",
       "      <td>0.000036</td>\n",
       "      <td>10.050560</td>\n",
       "      <td>1.106317</td>\n",
       "      <td>2021-07</td>\n",
       "    </tr>\n",
       "    <tr>\n",
       "      <th>2021-08-31 00:00:00+00:00</th>\n",
       "      <td>1588.300049</td>\n",
       "      <td>0.960917</td>\n",
       "      <td>0.008651</td>\n",
       "      <td>increase</td>\n",
       "      <td>0.000550</td>\n",
       "      <td>9.869130</td>\n",
       "      <td>1.086346</td>\n",
       "      <td>2021-08</td>\n",
       "    </tr>\n",
       "    <tr>\n",
       "      <th>2021-09-30 00:00:00+00:00</th>\n",
       "      <td>1505.199951</td>\n",
       "      <td>0.910642</td>\n",
       "      <td>0.009861</td>\n",
       "      <td>increase</td>\n",
       "      <td>0.000662</td>\n",
       "      <td>10.343790</td>\n",
       "      <td>1.138595</td>\n",
       "      <td>2021-09</td>\n",
       "    </tr>\n",
       "    <tr>\n",
       "      <th>2021-10-29 00:00:00+00:00</th>\n",
       "      <td>NaN</td>\n",
       "      <td>NaN</td>\n",
       "      <td>NaN</td>\n",
       "      <td>NaN</td>\n",
       "      <td>NaN</td>\n",
       "      <td>NaN</td>\n",
       "      <td>NaN</td>\n",
       "      <td>NaN</td>\n",
       "    </tr>\n",
       "    <tr>\n",
       "      <th>2021-11-30 00:00:00+00:00</th>\n",
       "      <td>1942.800049</td>\n",
       "      <td>1.175389</td>\n",
       "      <td>-0.005384</td>\n",
       "      <td>decrease</td>\n",
       "      <td>-0.000276</td>\n",
       "      <td>14.347000</td>\n",
       "      <td>1.579249</td>\n",
       "      <td>2021-11</td>\n",
       "    </tr>\n",
       "    <tr>\n",
       "      <th>2021-12-31 00:00:00+00:00</th>\n",
       "      <td>2025.000000</td>\n",
       "      <td>1.225119</td>\n",
       "      <td>-0.009196</td>\n",
       "      <td>decrease</td>\n",
       "      <td>-0.000451</td>\n",
       "      <td>14.993060</td>\n",
       "      <td>1.650364</td>\n",
       "      <td>2021-12</td>\n",
       "    </tr>\n",
       "    <tr>\n",
       "      <th>2022-01-31 00:00:00+00:00</th>\n",
       "      <td>2202.600098</td>\n",
       "      <td>1.332567</td>\n",
       "      <td>0.009438</td>\n",
       "      <td>increase</td>\n",
       "      <td>0.000432</td>\n",
       "      <td>15.034780</td>\n",
       "      <td>1.654956</td>\n",
       "      <td>2022-01</td>\n",
       "    </tr>\n",
       "    <tr>\n",
       "      <th>2022-02-28 00:00:00+00:00</th>\n",
       "      <td>2186.300049</td>\n",
       "      <td>1.322706</td>\n",
       "      <td>0.002965</td>\n",
       "      <td>increase</td>\n",
       "      <td>0.000136</td>\n",
       "      <td>15.688630</td>\n",
       "      <td>1.726929</td>\n",
       "      <td>2022-02</td>\n",
       "    </tr>\n",
       "    <tr>\n",
       "      <th>2022-03-31 00:00:00+00:00</th>\n",
       "      <td>2477.199951</td>\n",
       "      <td>1.498699</td>\n",
       "      <td>0.000302</td>\n",
       "      <td>increase</td>\n",
       "      <td>0.000012</td>\n",
       "      <td>16.353970</td>\n",
       "      <td>1.800166</td>\n",
       "      <td>2022-03</td>\n",
       "    </tr>\n",
       "    <tr>\n",
       "      <th>2022-04-29 00:00:00+00:00</th>\n",
       "      <td>2704.399902</td>\n",
       "      <td>1.636155</td>\n",
       "      <td>-0.001452</td>\n",
       "      <td>decrease</td>\n",
       "      <td>-0.000054</td>\n",
       "      <td>15.531140</td>\n",
       "      <td>1.709593</td>\n",
       "      <td>2022-04</td>\n",
       "    </tr>\n",
       "    <tr>\n",
       "      <th>2022-05-31 00:00:00+00:00</th>\n",
       "      <td>2837.600098</td>\n",
       "      <td>1.716740</td>\n",
       "      <td>0.013370</td>\n",
       "      <td>increase</td>\n",
       "      <td>0.000475</td>\n",
       "      <td>17.646820</td>\n",
       "      <td>1.942477</td>\n",
       "      <td>2022-05</td>\n",
       "    </tr>\n",
       "    <tr>\n",
       "      <th>2022-06-30 00:00:00+00:00</th>\n",
       "      <td>2609.199951</td>\n",
       "      <td>1.578559</td>\n",
       "      <td>0.003327</td>\n",
       "      <td>increase</td>\n",
       "      <td>0.000128</td>\n",
       "      <td>17.240959</td>\n",
       "      <td>1.897802</td>\n",
       "      <td>2022-06</td>\n",
       "    </tr>\n",
       "    <tr>\n",
       "      <th>2022-07-29 00:00:00+00:00</th>\n",
       "      <td>2760.500000</td>\n",
       "      <td>1.670095</td>\n",
       "      <td>0.037812</td>\n",
       "      <td>increase</td>\n",
       "      <td>0.001401</td>\n",
       "      <td>18.285971</td>\n",
       "      <td>2.012832</td>\n",
       "      <td>2022-07</td>\n",
       "    </tr>\n",
       "    <tr>\n",
       "      <th>2022-08-31 00:00:00+00:00</th>\n",
       "      <td>3454.399902</td>\n",
       "      <td>2.089903</td>\n",
       "      <td>-0.003872</td>\n",
       "      <td>decrease</td>\n",
       "      <td>-0.000112</td>\n",
       "      <td>18.194550</td>\n",
       "      <td>2.002768</td>\n",
       "      <td>2022-08</td>\n",
       "    </tr>\n",
       "    <tr>\n",
       "      <th>2022-09-30 00:00:00+00:00</th>\n",
       "      <td>3457.600098</td>\n",
       "      <td>2.091839</td>\n",
       "      <td>0.010406</td>\n",
       "      <td>increase</td>\n",
       "      <td>0.000302</td>\n",
       "      <td>18.145809</td>\n",
       "      <td>1.997403</td>\n",
       "      <td>2022-09</td>\n",
       "    </tr>\n",
       "    <tr>\n",
       "      <th>2022-10-31 00:00:00+00:00</th>\n",
       "      <td>4330.500000</td>\n",
       "      <td>2.619941</td>\n",
       "      <td>0.071390</td>\n",
       "      <td>increase</td>\n",
       "      <td>0.001695</td>\n",
       "      <td>18.480520</td>\n",
       "      <td>2.034247</td>\n",
       "      <td>2022-10</td>\n",
       "    </tr>\n",
       "    <tr>\n",
       "      <th>2022-11-30 00:00:00+00:00</th>\n",
       "      <td>5364.399902</td>\n",
       "      <td>3.245447</td>\n",
       "      <td>-0.006594</td>\n",
       "      <td>decrease</td>\n",
       "      <td>-0.000123</td>\n",
       "      <td>19.230379</td>\n",
       "      <td>2.116788</td>\n",
       "      <td>2022-11</td>\n",
       "    </tr>\n",
       "    <tr>\n",
       "      <th>2022-12-30 00:00:00+00:00</th>\n",
       "      <td>5944.799805</td>\n",
       "      <td>3.596588</td>\n",
       "      <td>0.017908</td>\n",
       "      <td>increase</td>\n",
       "      <td>0.000303</td>\n",
       "      <td>19.937571</td>\n",
       "      <td>2.194632</td>\n",
       "      <td>2022-12</td>\n",
       "    </tr>\n",
       "  </tbody>\n",
       "</table>\n",
       "</div>"
      ],
      "text/plain": [
       "                           Closing (TRY)  Normalize    change direction   \n",
       "Date                                                                      \n",
       "2021-01-29 00:00:00+00:00    1572.400024   0.951298 -0.017847  decrease  \\\n",
       "2021-02-26 00:00:00+00:00    1556.000000   0.941376 -0.010950  decrease   \n",
       "2021-03-31 00:00:00+00:00    1430.699951   0.865570 -0.000726  decrease   \n",
       "2021-04-30 00:00:00+00:00    1456.900024   0.881421 -0.005263  decrease   \n",
       "2021-05-31 00:00:00+00:00            NaN        NaN       NaN       NaN   \n",
       "2021-06-30 00:00:00+00:00    1462.900024   0.885051 -0.012160  decrease   \n",
       "2021-07-30 00:00:00+00:00    1500.800049   0.907980  0.000545  increase   \n",
       "2021-08-31 00:00:00+00:00    1588.300049   0.960917  0.008651  increase   \n",
       "2021-09-30 00:00:00+00:00    1505.199951   0.910642  0.009861  increase   \n",
       "2021-10-29 00:00:00+00:00            NaN        NaN       NaN       NaN   \n",
       "2021-11-30 00:00:00+00:00    1942.800049   1.175389 -0.005384  decrease   \n",
       "2021-12-31 00:00:00+00:00    2025.000000   1.225119 -0.009196  decrease   \n",
       "2022-01-31 00:00:00+00:00    2202.600098   1.332567  0.009438  increase   \n",
       "2022-02-28 00:00:00+00:00    2186.300049   1.322706  0.002965  increase   \n",
       "2022-03-31 00:00:00+00:00    2477.199951   1.498699  0.000302  increase   \n",
       "2022-04-29 00:00:00+00:00    2704.399902   1.636155 -0.001452  decrease   \n",
       "2022-05-31 00:00:00+00:00    2837.600098   1.716740  0.013370  increase   \n",
       "2022-06-30 00:00:00+00:00    2609.199951   1.578559  0.003327  increase   \n",
       "2022-07-29 00:00:00+00:00    2760.500000   1.670095  0.037812  increase   \n",
       "2022-08-31 00:00:00+00:00    3454.399902   2.089903 -0.003872  decrease   \n",
       "2022-09-30 00:00:00+00:00    3457.600098   2.091839  0.010406  increase   \n",
       "2022-10-31 00:00:00+00:00    4330.500000   2.619941  0.071390  increase   \n",
       "2022-11-30 00:00:00+00:00    5364.399902   3.245447 -0.006594  decrease   \n",
       "2022-12-30 00:00:00+00:00    5944.799805   3.596588  0.017908  increase   \n",
       "\n",
       "                            change%    EUR/TRY  Normalize EUR/TRY month_year  \n",
       "Date                                                                          \n",
       "2021-01-29 00:00:00+00:00 -0.001114   8.902570           0.979952    2021-01  \n",
       "2021-02-26 00:00:00+00:00 -0.000696   8.904670           0.980183    2021-02  \n",
       "2021-03-31 00:00:00+00:00 -0.000051   9.748300           1.073046    2021-03  \n",
       "2021-04-30 00:00:00+00:00 -0.000359   9.923590           1.092341    2021-04  \n",
       "2021-05-31 00:00:00+00:00       NaN        NaN                NaN        NaN  \n",
       "2021-06-30 00:00:00+00:00 -0.000820  10.384030           1.143024    2021-06  \n",
       "2021-07-30 00:00:00+00:00  0.000036  10.050560           1.106317    2021-07  \n",
       "2021-08-31 00:00:00+00:00  0.000550   9.869130           1.086346    2021-08  \n",
       "2021-09-30 00:00:00+00:00  0.000662  10.343790           1.138595    2021-09  \n",
       "2021-10-29 00:00:00+00:00       NaN        NaN                NaN        NaN  \n",
       "2021-11-30 00:00:00+00:00 -0.000276  14.347000           1.579249    2021-11  \n",
       "2021-12-31 00:00:00+00:00 -0.000451  14.993060           1.650364    2021-12  \n",
       "2022-01-31 00:00:00+00:00  0.000432  15.034780           1.654956    2022-01  \n",
       "2022-02-28 00:00:00+00:00  0.000136  15.688630           1.726929    2022-02  \n",
       "2022-03-31 00:00:00+00:00  0.000012  16.353970           1.800166    2022-03  \n",
       "2022-04-29 00:00:00+00:00 -0.000054  15.531140           1.709593    2022-04  \n",
       "2022-05-31 00:00:00+00:00  0.000475  17.646820           1.942477    2022-05  \n",
       "2022-06-30 00:00:00+00:00  0.000128  17.240959           1.897802    2022-06  \n",
       "2022-07-29 00:00:00+00:00  0.001401  18.285971           2.012832    2022-07  \n",
       "2022-08-31 00:00:00+00:00 -0.000112  18.194550           2.002768    2022-08  \n",
       "2022-09-30 00:00:00+00:00  0.000302  18.145809           1.997403    2022-09  \n",
       "2022-10-31 00:00:00+00:00  0.001695  18.480520           2.034247    2022-10  \n",
       "2022-11-30 00:00:00+00:00 -0.000123  19.230379           2.116788    2022-11  \n",
       "2022-12-30 00:00:00+00:00  0.000303  19.937571           2.194632    2022-12  "
      ]
     },
     "execution_count": 14,
     "metadata": {},
     "output_type": "execute_result"
    }
   ],
   "source": [
    "end_of_month2 = data.resample(\"BM\", convention=\"end\").asfreq()\n",
    "end_of_month2"
   ]
  },
  {
   "cell_type": "code",
   "execution_count": 15,
   "id": "jS9BkhX0xoUD",
   "metadata": {
    "colab": {
     "base_uri": "https://localhost:8080/",
     "height": 542
    },
    "id": "jS9BkhX0xoUD",
    "outputId": "f82a6196-4804-4d18-d97c-dc396538a359"
   },
   "outputs": [
    {
     "data": {
      "application/vnd.plotly.v1+json": {
       "config": {
        "plotlyServerURL": "https://plot.ly"
       },
       "data": [
        {
         "alignmentgroup": "True",
         "hovertemplate": "direction=decrease<br>Date=%{x}<br>change%=%{y}<extra></extra>",
         "legendgroup": "decrease",
         "marker": {
          "color": "red",
          "pattern": {
           "shape": ""
          }
         },
         "name": "decrease",
         "offsetgroup": "decrease",
         "orientation": "v",
         "showlegend": true,
         "textposition": "auto",
         "texttemplate": "%{y:.2%}",
         "type": "bar",
         "x": [
          "2021-01-29T00:00:00+00:00",
          "2021-02-26T00:00:00+00:00",
          "2021-03-31T00:00:00+00:00",
          "2021-04-30T00:00:00+00:00",
          "2021-06-30T00:00:00+00:00",
          "2021-11-30T00:00:00+00:00",
          "2021-12-31T00:00:00+00:00",
          "2022-04-29T00:00:00+00:00",
          "2022-08-31T00:00:00+00:00",
          "2022-11-30T00:00:00+00:00"
         ],
         "xaxis": "x",
         "y": [
          -0.0011141406549091811,
          -0.0006956632971620206,
          -0.00005070472946683766,
          -0.0003591325589116587,
          -0.0008199885588631085,
          -0.00027588342180008107,
          -0.00045073665138524845,
          -0.00005364570862403103,
          -0.00011188369992208749,
          -0.00012267987619900357
         ],
         "yaxis": "y"
        },
        {
         "alignmentgroup": "True",
         "hovertemplate": "direction=increase<br>Date=%{x}<br>change%=%{y}<extra></extra>",
         "legendgroup": "increase",
         "marker": {
          "color": "green",
          "pattern": {
           "shape": ""
          }
         },
         "name": "increase",
         "offsetgroup": "increase",
         "orientation": "v",
         "showlegend": true,
         "textposition": "auto",
         "texttemplate": "%{y:.2%}",
         "type": "bar",
         "x": [
          "2021-07-30T00:00:00+00:00",
          "2021-08-31T00:00:00+00:00",
          "2021-09-30T00:00:00+00:00",
          "2022-01-31T00:00:00+00:00",
          "2022-02-28T00:00:00+00:00",
          "2022-03-31T00:00:00+00:00",
          "2022-05-31T00:00:00+00:00",
          "2022-06-30T00:00:00+00:00",
          "2022-07-29T00:00:00+00:00",
          "2022-09-30T00:00:00+00:00",
          "2022-10-31T00:00:00+00:00",
          "2022-12-30T00:00:00+00:00"
         ],
         "xaxis": "x",
         "y": [
          0.0000363032404358016,
          0.000549649967059821,
          0.0006623286321960432,
          0.00043155082174452887,
          0.00013590241915225102,
          0.000012213778021232495,
          0.0004748889617225362,
          0.00012779832697970954,
          0.0014014947845074448,
          0.00030246690729034397,
          0.0016947104496614416,
          0.0003027400972326859
         ],
         "yaxis": "y"
        }
       ],
       "layout": {
        "barmode": "relative",
        "legend": {
         "title": {
          "text": "direction"
         },
         "tracegroupgap": 0
        },
        "margin": {
         "t": 60
        },
        "template": {
         "data": {
          "bar": [
           {
            "error_x": {
             "color": "#2a3f5f"
            },
            "error_y": {
             "color": "#2a3f5f"
            },
            "marker": {
             "line": {
              "color": "#E5ECF6",
              "width": 0.5
             },
             "pattern": {
              "fillmode": "overlay",
              "size": 10,
              "solidity": 0.2
             }
            },
            "type": "bar"
           }
          ],
          "barpolar": [
           {
            "marker": {
             "line": {
              "color": "#E5ECF6",
              "width": 0.5
             },
             "pattern": {
              "fillmode": "overlay",
              "size": 10,
              "solidity": 0.2
             }
            },
            "type": "barpolar"
           }
          ],
          "carpet": [
           {
            "aaxis": {
             "endlinecolor": "#2a3f5f",
             "gridcolor": "white",
             "linecolor": "white",
             "minorgridcolor": "white",
             "startlinecolor": "#2a3f5f"
            },
            "baxis": {
             "endlinecolor": "#2a3f5f",
             "gridcolor": "white",
             "linecolor": "white",
             "minorgridcolor": "white",
             "startlinecolor": "#2a3f5f"
            },
            "type": "carpet"
           }
          ],
          "choropleth": [
           {
            "colorbar": {
             "outlinewidth": 0,
             "ticks": ""
            },
            "type": "choropleth"
           }
          ],
          "contour": [
           {
            "colorbar": {
             "outlinewidth": 0,
             "ticks": ""
            },
            "colorscale": [
             [
              0,
              "#0d0887"
             ],
             [
              0.1111111111111111,
              "#46039f"
             ],
             [
              0.2222222222222222,
              "#7201a8"
             ],
             [
              0.3333333333333333,
              "#9c179e"
             ],
             [
              0.4444444444444444,
              "#bd3786"
             ],
             [
              0.5555555555555556,
              "#d8576b"
             ],
             [
              0.6666666666666666,
              "#ed7953"
             ],
             [
              0.7777777777777778,
              "#fb9f3a"
             ],
             [
              0.8888888888888888,
              "#fdca26"
             ],
             [
              1,
              "#f0f921"
             ]
            ],
            "type": "contour"
           }
          ],
          "contourcarpet": [
           {
            "colorbar": {
             "outlinewidth": 0,
             "ticks": ""
            },
            "type": "contourcarpet"
           }
          ],
          "heatmap": [
           {
            "colorbar": {
             "outlinewidth": 0,
             "ticks": ""
            },
            "colorscale": [
             [
              0,
              "#0d0887"
             ],
             [
              0.1111111111111111,
              "#46039f"
             ],
             [
              0.2222222222222222,
              "#7201a8"
             ],
             [
              0.3333333333333333,
              "#9c179e"
             ],
             [
              0.4444444444444444,
              "#bd3786"
             ],
             [
              0.5555555555555556,
              "#d8576b"
             ],
             [
              0.6666666666666666,
              "#ed7953"
             ],
             [
              0.7777777777777778,
              "#fb9f3a"
             ],
             [
              0.8888888888888888,
              "#fdca26"
             ],
             [
              1,
              "#f0f921"
             ]
            ],
            "type": "heatmap"
           }
          ],
          "heatmapgl": [
           {
            "colorbar": {
             "outlinewidth": 0,
             "ticks": ""
            },
            "colorscale": [
             [
              0,
              "#0d0887"
             ],
             [
              0.1111111111111111,
              "#46039f"
             ],
             [
              0.2222222222222222,
              "#7201a8"
             ],
             [
              0.3333333333333333,
              "#9c179e"
             ],
             [
              0.4444444444444444,
              "#bd3786"
             ],
             [
              0.5555555555555556,
              "#d8576b"
             ],
             [
              0.6666666666666666,
              "#ed7953"
             ],
             [
              0.7777777777777778,
              "#fb9f3a"
             ],
             [
              0.8888888888888888,
              "#fdca26"
             ],
             [
              1,
              "#f0f921"
             ]
            ],
            "type": "heatmapgl"
           }
          ],
          "histogram": [
           {
            "marker": {
             "pattern": {
              "fillmode": "overlay",
              "size": 10,
              "solidity": 0.2
             }
            },
            "type": "histogram"
           }
          ],
          "histogram2d": [
           {
            "colorbar": {
             "outlinewidth": 0,
             "ticks": ""
            },
            "colorscale": [
             [
              0,
              "#0d0887"
             ],
             [
              0.1111111111111111,
              "#46039f"
             ],
             [
              0.2222222222222222,
              "#7201a8"
             ],
             [
              0.3333333333333333,
              "#9c179e"
             ],
             [
              0.4444444444444444,
              "#bd3786"
             ],
             [
              0.5555555555555556,
              "#d8576b"
             ],
             [
              0.6666666666666666,
              "#ed7953"
             ],
             [
              0.7777777777777778,
              "#fb9f3a"
             ],
             [
              0.8888888888888888,
              "#fdca26"
             ],
             [
              1,
              "#f0f921"
             ]
            ],
            "type": "histogram2d"
           }
          ],
          "histogram2dcontour": [
           {
            "colorbar": {
             "outlinewidth": 0,
             "ticks": ""
            },
            "colorscale": [
             [
              0,
              "#0d0887"
             ],
             [
              0.1111111111111111,
              "#46039f"
             ],
             [
              0.2222222222222222,
              "#7201a8"
             ],
             [
              0.3333333333333333,
              "#9c179e"
             ],
             [
              0.4444444444444444,
              "#bd3786"
             ],
             [
              0.5555555555555556,
              "#d8576b"
             ],
             [
              0.6666666666666666,
              "#ed7953"
             ],
             [
              0.7777777777777778,
              "#fb9f3a"
             ],
             [
              0.8888888888888888,
              "#fdca26"
             ],
             [
              1,
              "#f0f921"
             ]
            ],
            "type": "histogram2dcontour"
           }
          ],
          "mesh3d": [
           {
            "colorbar": {
             "outlinewidth": 0,
             "ticks": ""
            },
            "type": "mesh3d"
           }
          ],
          "parcoords": [
           {
            "line": {
             "colorbar": {
              "outlinewidth": 0,
              "ticks": ""
             }
            },
            "type": "parcoords"
           }
          ],
          "pie": [
           {
            "automargin": true,
            "type": "pie"
           }
          ],
          "scatter": [
           {
            "fillpattern": {
             "fillmode": "overlay",
             "size": 10,
             "solidity": 0.2
            },
            "type": "scatter"
           }
          ],
          "scatter3d": [
           {
            "line": {
             "colorbar": {
              "outlinewidth": 0,
              "ticks": ""
             }
            },
            "marker": {
             "colorbar": {
              "outlinewidth": 0,
              "ticks": ""
             }
            },
            "type": "scatter3d"
           }
          ],
          "scattercarpet": [
           {
            "marker": {
             "colorbar": {
              "outlinewidth": 0,
              "ticks": ""
             }
            },
            "type": "scattercarpet"
           }
          ],
          "scattergeo": [
           {
            "marker": {
             "colorbar": {
              "outlinewidth": 0,
              "ticks": ""
             }
            },
            "type": "scattergeo"
           }
          ],
          "scattergl": [
           {
            "marker": {
             "colorbar": {
              "outlinewidth": 0,
              "ticks": ""
             }
            },
            "type": "scattergl"
           }
          ],
          "scattermapbox": [
           {
            "marker": {
             "colorbar": {
              "outlinewidth": 0,
              "ticks": ""
             }
            },
            "type": "scattermapbox"
           }
          ],
          "scatterpolar": [
           {
            "marker": {
             "colorbar": {
              "outlinewidth": 0,
              "ticks": ""
             }
            },
            "type": "scatterpolar"
           }
          ],
          "scatterpolargl": [
           {
            "marker": {
             "colorbar": {
              "outlinewidth": 0,
              "ticks": ""
             }
            },
            "type": "scatterpolargl"
           }
          ],
          "scatterternary": [
           {
            "marker": {
             "colorbar": {
              "outlinewidth": 0,
              "ticks": ""
             }
            },
            "type": "scatterternary"
           }
          ],
          "surface": [
           {
            "colorbar": {
             "outlinewidth": 0,
             "ticks": ""
            },
            "colorscale": [
             [
              0,
              "#0d0887"
             ],
             [
              0.1111111111111111,
              "#46039f"
             ],
             [
              0.2222222222222222,
              "#7201a8"
             ],
             [
              0.3333333333333333,
              "#9c179e"
             ],
             [
              0.4444444444444444,
              "#bd3786"
             ],
             [
              0.5555555555555556,
              "#d8576b"
             ],
             [
              0.6666666666666666,
              "#ed7953"
             ],
             [
              0.7777777777777778,
              "#fb9f3a"
             ],
             [
              0.8888888888888888,
              "#fdca26"
             ],
             [
              1,
              "#f0f921"
             ]
            ],
            "type": "surface"
           }
          ],
          "table": [
           {
            "cells": {
             "fill": {
              "color": "#EBF0F8"
             },
             "line": {
              "color": "white"
             }
            },
            "header": {
             "fill": {
              "color": "#C8D4E3"
             },
             "line": {
              "color": "white"
             }
            },
            "type": "table"
           }
          ]
         },
         "layout": {
          "annotationdefaults": {
           "arrowcolor": "#2a3f5f",
           "arrowhead": 0,
           "arrowwidth": 1
          },
          "autotypenumbers": "strict",
          "coloraxis": {
           "colorbar": {
            "outlinewidth": 0,
            "ticks": ""
           }
          },
          "colorscale": {
           "diverging": [
            [
             0,
             "#8e0152"
            ],
            [
             0.1,
             "#c51b7d"
            ],
            [
             0.2,
             "#de77ae"
            ],
            [
             0.3,
             "#f1b6da"
            ],
            [
             0.4,
             "#fde0ef"
            ],
            [
             0.5,
             "#f7f7f7"
            ],
            [
             0.6,
             "#e6f5d0"
            ],
            [
             0.7,
             "#b8e186"
            ],
            [
             0.8,
             "#7fbc41"
            ],
            [
             0.9,
             "#4d9221"
            ],
            [
             1,
             "#276419"
            ]
           ],
           "sequential": [
            [
             0,
             "#0d0887"
            ],
            [
             0.1111111111111111,
             "#46039f"
            ],
            [
             0.2222222222222222,
             "#7201a8"
            ],
            [
             0.3333333333333333,
             "#9c179e"
            ],
            [
             0.4444444444444444,
             "#bd3786"
            ],
            [
             0.5555555555555556,
             "#d8576b"
            ],
            [
             0.6666666666666666,
             "#ed7953"
            ],
            [
             0.7777777777777778,
             "#fb9f3a"
            ],
            [
             0.8888888888888888,
             "#fdca26"
            ],
            [
             1,
             "#f0f921"
            ]
           ],
           "sequentialminus": [
            [
             0,
             "#0d0887"
            ],
            [
             0.1111111111111111,
             "#46039f"
            ],
            [
             0.2222222222222222,
             "#7201a8"
            ],
            [
             0.3333333333333333,
             "#9c179e"
            ],
            [
             0.4444444444444444,
             "#bd3786"
            ],
            [
             0.5555555555555556,
             "#d8576b"
            ],
            [
             0.6666666666666666,
             "#ed7953"
            ],
            [
             0.7777777777777778,
             "#fb9f3a"
            ],
            [
             0.8888888888888888,
             "#fdca26"
            ],
            [
             1,
             "#f0f921"
            ]
           ]
          },
          "colorway": [
           "#636efa",
           "#EF553B",
           "#00cc96",
           "#ab63fa",
           "#FFA15A",
           "#19d3f3",
           "#FF6692",
           "#B6E880",
           "#FF97FF",
           "#FECB52"
          ],
          "font": {
           "color": "#2a3f5f"
          },
          "geo": {
           "bgcolor": "white",
           "lakecolor": "white",
           "landcolor": "#E5ECF6",
           "showlakes": true,
           "showland": true,
           "subunitcolor": "white"
          },
          "hoverlabel": {
           "align": "left"
          },
          "hovermode": "closest",
          "mapbox": {
           "style": "light"
          },
          "paper_bgcolor": "white",
          "plot_bgcolor": "#E5ECF6",
          "polar": {
           "angularaxis": {
            "gridcolor": "white",
            "linecolor": "white",
            "ticks": ""
           },
           "bgcolor": "#E5ECF6",
           "radialaxis": {
            "gridcolor": "white",
            "linecolor": "white",
            "ticks": ""
           }
          },
          "scene": {
           "xaxis": {
            "backgroundcolor": "#E5ECF6",
            "gridcolor": "white",
            "gridwidth": 2,
            "linecolor": "white",
            "showbackground": true,
            "ticks": "",
            "zerolinecolor": "white"
           },
           "yaxis": {
            "backgroundcolor": "#E5ECF6",
            "gridcolor": "white",
            "gridwidth": 2,
            "linecolor": "white",
            "showbackground": true,
            "ticks": "",
            "zerolinecolor": "white"
           },
           "zaxis": {
            "backgroundcolor": "#E5ECF6",
            "gridcolor": "white",
            "gridwidth": 2,
            "linecolor": "white",
            "showbackground": true,
            "ticks": "",
            "zerolinecolor": "white"
           }
          },
          "shapedefaults": {
           "line": {
            "color": "#2a3f5f"
           }
          },
          "ternary": {
           "aaxis": {
            "gridcolor": "white",
            "linecolor": "white",
            "ticks": ""
           },
           "baxis": {
            "gridcolor": "white",
            "linecolor": "white",
            "ticks": ""
           },
           "bgcolor": "#E5ECF6",
           "caxis": {
            "gridcolor": "white",
            "linecolor": "white",
            "ticks": ""
           }
          },
          "title": {
           "x": 0.05
          },
          "xaxis": {
           "automargin": true,
           "gridcolor": "white",
           "linecolor": "white",
           "ticks": "",
           "title": {
            "standoff": 15
           },
           "zerolinecolor": "white",
           "zerolinewidth": 2
          },
          "yaxis": {
           "automargin": true,
           "gridcolor": "white",
           "linecolor": "white",
           "ticks": "",
           "title": {
            "standoff": 15
           },
           "zerolinecolor": "white",
           "zerolinewidth": 2
          }
         }
        },
        "xaxis": {
         "anchor": "y",
         "domain": [
          0,
          1
         ],
         "title": {
          "text": "Date"
         }
        },
        "yaxis": {
         "anchor": "x",
         "domain": [
          0,
          1
         ],
         "title": {
          "text": "change%"
         }
        }
       }
      }
     },
     "metadata": {},
     "output_type": "display_data"
    }
   ],
   "source": [
    "px.bar(end_of_month2, y = \"change%\", color = \"direction\", color_discrete_map={\"decrease\" : \"red\", \"increase\" : \"green\"}, text_auto=\".2%\")"
   ]
  },
  {
   "cell_type": "code",
   "execution_count": null,
   "id": "a32c7760",
   "metadata": {},
   "outputs": [],
   "source": []
  }
 ],
 "metadata": {
  "colab": {
   "provenance": []
  },
  "kernelspec": {
   "display_name": "Python 3",
   "language": "python",
   "name": "python3"
  },
  "language_info": {
   "codemirror_mode": {
    "name": "ipython",
    "version": 3
   },
   "file_extension": ".py",
   "mimetype": "text/x-python",
   "name": "python",
   "nbconvert_exporter": "python",
   "pygments_lexer": "ipython3",
   "version": "3.10.10"
  }
 },
 "nbformat": 4,
 "nbformat_minor": 5
}
